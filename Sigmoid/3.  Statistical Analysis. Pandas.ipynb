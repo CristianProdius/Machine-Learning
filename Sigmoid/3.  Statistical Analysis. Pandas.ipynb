{
 "cells": [
  {
   "cell_type": "code",
   "execution_count": 10,
   "id": "d83fe3dc",
   "metadata": {},
   "outputs": [
    {
     "name": "stdout",
     "output_type": "stream",
     "text": [
      "                           mean  median   mode     std_dev     variation   \n",
      "age                   53.720168    54.0   54.0    9.358203     87.575960  \\\n",
      "sex                    0.763866     1.0    1.0    0.424884      0.180527   \n",
      "chest pain type        3.232773     4.0    4.0    0.935480      0.875124   \n",
      "resting bp s         132.153782   130.0  120.0   18.368823    337.413674   \n",
      "cholesterol          210.363866   229.0    0.0  101.420489  10286.115598   \n",
      "fasting blood sugar    0.213445     0.0    0.0    0.409912      0.168028   \n",
      "resting ecg            0.698319     0.0    0.0    0.870359      0.757525   \n",
      "max heart rate       139.732773   140.5  150.0   25.517636    651.149724   \n",
      "exercise angina        0.387395     0.0    0.0    0.487360      0.237520   \n",
      "oldpeak                0.922773     0.6    0.0    1.086337      1.180129   \n",
      "ST slope               1.624370     2.0    2.0    0.610459      0.372660   \n",
      "target                 0.528571     1.0    1.0    0.499393      0.249393   \n",
      "\n",
      "                     range  \n",
      "age                   49.0  \n",
      "sex                    1.0  \n",
      "chest pain type        3.0  \n",
      "resting bp s         200.0  \n",
      "cholesterol          603.0  \n",
      "fasting blood sugar    1.0  \n",
      "resting ecg            2.0  \n",
      "max heart rate       142.0  \n",
      "exercise angina        1.0  \n",
      "oldpeak                8.8  \n",
      "ST slope               3.0  \n",
      "target                 1.0  \n"
     ]
    }
   ],
   "source": [
    "import pandas as pd\n",
    "\n",
    "df = pd.read_csv('heart_statlog_cleveland_hungary_final.csv')\n",
    "stats_df = pd.DataFrame({'mean': df.mean(), 'median': df.median(), 'mode': df.mode().iloc[0], \n",
    "                         'std_dev': df.std(), 'variation': df.var(), 'range': df.max()-df.min()})\n",
    "print(stats_df)\n"
   ]
  },
  {
   "cell_type": "code",
   "execution_count": 11,
   "id": "00eef57b",
   "metadata": {},
   "outputs": [
    {
     "name": "stdout",
     "output_type": "stream",
     "text": [
      "target                 1.000000\n",
      "ST slope               0.505608\n",
      "exercise angina        0.481467\n",
      "chest pain type        0.460127\n",
      "max heart rate         0.413278\n",
      "oldpeak                0.398385\n",
      "sex                    0.311267\n",
      "age                    0.262029\n",
      "fasting blood sugar    0.216695\n",
      "cholesterol            0.198366\n",
      "resting bp s           0.121415\n",
      "resting ecg            0.073059\n",
      "Name: target, dtype: float64\n"
     ]
    }
   ],
   "source": [
    "target_col = 'target' \n",
    "corr_matrix = df.corr().abs()\n",
    "sorted_corr = corr_matrix[target_col].sort_values(ascending=False)\n",
    "print(sorted_corr)\n"
   ]
  }
 ],
 "metadata": {
  "kernelspec": {
   "display_name": "Python 3 (ipykernel)",
   "language": "python",
   "name": "python3"
  },
  "language_info": {
   "codemirror_mode": {
    "name": "ipython",
    "version": 3
   },
   "file_extension": ".py",
   "mimetype": "text/x-python",
   "name": "python",
   "nbconvert_exporter": "python",
   "pygments_lexer": "ipython3",
   "version": "3.11.3"
  }
 },
 "nbformat": 4,
 "nbformat_minor": 5
}
