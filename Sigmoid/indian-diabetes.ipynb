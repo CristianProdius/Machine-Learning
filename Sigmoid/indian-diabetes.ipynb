{
 "cells": [
  {
   "cell_type": "code",
   "execution_count": 16,
   "metadata": {},
   "outputs": [
    {
     "name": "stdout",
     "output_type": "stream",
     "text": [
      "Defaulting to user installation because normal site-packages is not writeable\n",
      "Requirement already satisfied: seaborn in /home/huntrese/.local/lib/python3.10/site-packages (0.12.2)\n",
      "Requirement already satisfied: matplotlib!=3.6.1,>=3.1 in /home/huntrese/.local/lib/python3.10/site-packages (from seaborn) (3.7.0)\n",
      "Requirement already satisfied: numpy!=1.24.0,>=1.17 in /home/huntrese/.local/lib/python3.10/site-packages (from seaborn) (1.24.2)\n",
      "Requirement already satisfied: pandas>=0.25 in /home/huntrese/.local/lib/python3.10/site-packages (from seaborn) (1.5.3)\n",
      "Requirement already satisfied: pillow>=6.2.0 in /usr/lib/python3/dist-packages (from matplotlib!=3.6.1,>=3.1->seaborn) (9.0.1)\n",
      "Requirement already satisfied: pyparsing>=2.3.1 in /usr/lib/python3/dist-packages (from matplotlib!=3.6.1,>=3.1->seaborn) (2.4.7)\n",
      "Requirement already satisfied: kiwisolver>=1.0.1 in /home/huntrese/.local/lib/python3.10/site-packages (from matplotlib!=3.6.1,>=3.1->seaborn) (1.4.4)\n",
      "Requirement already satisfied: fonttools>=4.22.0 in /home/huntrese/.local/lib/python3.10/site-packages (from matplotlib!=3.6.1,>=3.1->seaborn) (4.38.0)\n",
      "Requirement already satisfied: packaging>=20.0 in /usr/lib/python3/dist-packages (from matplotlib!=3.6.1,>=3.1->seaborn) (21.3)\n",
      "Requirement already satisfied: python-dateutil>=2.7 in /home/huntrese/.local/lib/python3.10/site-packages (from matplotlib!=3.6.1,>=3.1->seaborn) (2.8.2)\n",
      "Requirement already satisfied: contourpy>=1.0.1 in /home/huntrese/.local/lib/python3.10/site-packages (from matplotlib!=3.6.1,>=3.1->seaborn) (1.0.7)\n",
      "Requirement already satisfied: cycler>=0.10 in /home/huntrese/.local/lib/python3.10/site-packages (from matplotlib!=3.6.1,>=3.1->seaborn) (0.11.0)\n",
      "Requirement already satisfied: pytz>=2020.1 in /usr/lib/python3/dist-packages (from pandas>=0.25->seaborn) (2022.1)\n",
      "Requirement already satisfied: six>=1.5 in /usr/lib/python3/dist-packages (from python-dateutil>=2.7->matplotlib!=3.6.1,>=3.1->seaborn) (1.16.0)\n"
     ]
    }
   ],
   "source": [
    "!pip install seaborn"
   ]
  },
  {
   "cell_type": "code",
   "execution_count": 17,
   "metadata": {},
   "outputs": [],
   "source": [
    "\n",
    "\n",
    "import pandas as pd\n",
    "import sklearn as sk\n",
    "import numpy as np\n",
    "import matplotlib.pyplot as plt\n",
    "from sklearn.model_selection import train_test_split\n",
    "from sklearn.metrics import mean_squared_error,mean_absolute_error,confusion_matrix,accuracy_score\n",
    "from sklearn.linear_model import LinearRegression\n",
    "from sklearn.impute import SimpleImputer\n",
    "import seaborn as sns\n"
   ]
  },
  {
   "cell_type": "code",
   "execution_count": 18,
   "metadata": {},
   "outputs": [],
   "source": [
    "\"\"\"Created a function to choose wether or not person is sick based on their Predicted output(it is a float, sometimes can vary, and I had to do this instead of round() \n",
    ", because ocasionally a value of 2 would appear) I tried to implement a sigmoid function, but that went completely wrong, definitely misused it there\"\"\"\n",
    "def choose(a):\n",
    "    if abs(a) <0.5:\n",
    "        return 0\n",
    "    else:\n",
    "        return 1"
   ]
  },
  {
   "cell_type": "code",
   "execution_count": 19,
   "metadata": {},
   "outputs": [],
   "source": [
    "ds_train=pd.read_csv(\"/home/huntrese/Documents/COding/Sigmoid/diabetes.csv\")\n",
    "\n",
    "\"\"\"Using ds_train.describe() here I realised some cells have value 0, when they clearly should not do so, because of this .isnull() showed 0, \n",
    "even though the data was not correct, as someone can not have a Blood Pressure of 0, so I tried using SimpleImputer and KNeighbor Inputer, out of which SimpleIMputer performed\n",
    "best, so I sticked with it further on. The only concern was wether or not insulin can be 0, but some googling led me to believe that it is not possible,so it has also been \n",
    "modified using the SimpleImputer\n",
    "\"\"\" \n",
    "imputer = SimpleImputer(missing_values=0,strategy='mean')\n",
    "ds_train.iloc[:,1:6]=imputer.fit_transform(ds_train.iloc[:,1:6])\n",
    "\n"
   ]
  },
  {
   "cell_type": "code",
   "execution_count": 20,
   "metadata": {},
   "outputs": [
    {
     "data": {
      "text/html": [
       "<div>\n",
       "<style scoped>\n",
       "    .dataframe tbody tr th:only-of-type {\n",
       "        vertical-align: middle;\n",
       "    }\n",
       "\n",
       "    .dataframe tbody tr th {\n",
       "        vertical-align: top;\n",
       "    }\n",
       "\n",
       "    .dataframe thead th {\n",
       "        text-align: right;\n",
       "    }\n",
       "</style>\n",
       "<table border=\"1\" class=\"dataframe\">\n",
       "  <thead>\n",
       "    <tr style=\"text-align: right;\">\n",
       "      <th></th>\n",
       "      <th>Pregnancies</th>\n",
       "      <th>Glucose</th>\n",
       "      <th>BloodPressure</th>\n",
       "      <th>SkinThickness</th>\n",
       "      <th>Insulin</th>\n",
       "      <th>BMI</th>\n",
       "      <th>DiabetesPedigreeFunction</th>\n",
       "      <th>Age</th>\n",
       "      <th>Outcome</th>\n",
       "    </tr>\n",
       "  </thead>\n",
       "  <tbody>\n",
       "    <tr>\n",
       "      <th>count</th>\n",
       "      <td>768.000000</td>\n",
       "      <td>768.000000</td>\n",
       "      <td>768.000000</td>\n",
       "      <td>768.000000</td>\n",
       "      <td>768.000000</td>\n",
       "      <td>768.000000</td>\n",
       "      <td>768.000000</td>\n",
       "      <td>768.000000</td>\n",
       "      <td>768.000000</td>\n",
       "    </tr>\n",
       "    <tr>\n",
       "      <th>mean</th>\n",
       "      <td>3.845052</td>\n",
       "      <td>121.686763</td>\n",
       "      <td>72.405184</td>\n",
       "      <td>29.153420</td>\n",
       "      <td>155.548223</td>\n",
       "      <td>32.457464</td>\n",
       "      <td>0.471876</td>\n",
       "      <td>33.240885</td>\n",
       "      <td>0.348958</td>\n",
       "    </tr>\n",
       "    <tr>\n",
       "      <th>std</th>\n",
       "      <td>3.369578</td>\n",
       "      <td>30.435949</td>\n",
       "      <td>12.096346</td>\n",
       "      <td>8.790942</td>\n",
       "      <td>85.021108</td>\n",
       "      <td>6.875151</td>\n",
       "      <td>0.331329</td>\n",
       "      <td>11.760232</td>\n",
       "      <td>0.476951</td>\n",
       "    </tr>\n",
       "    <tr>\n",
       "      <th>min</th>\n",
       "      <td>0.000000</td>\n",
       "      <td>44.000000</td>\n",
       "      <td>24.000000</td>\n",
       "      <td>7.000000</td>\n",
       "      <td>14.000000</td>\n",
       "      <td>18.200000</td>\n",
       "      <td>0.078000</td>\n",
       "      <td>21.000000</td>\n",
       "      <td>0.000000</td>\n",
       "    </tr>\n",
       "    <tr>\n",
       "      <th>25%</th>\n",
       "      <td>1.000000</td>\n",
       "      <td>99.750000</td>\n",
       "      <td>64.000000</td>\n",
       "      <td>25.000000</td>\n",
       "      <td>121.500000</td>\n",
       "      <td>27.500000</td>\n",
       "      <td>0.243750</td>\n",
       "      <td>24.000000</td>\n",
       "      <td>0.000000</td>\n",
       "    </tr>\n",
       "    <tr>\n",
       "      <th>50%</th>\n",
       "      <td>3.000000</td>\n",
       "      <td>117.000000</td>\n",
       "      <td>72.202592</td>\n",
       "      <td>29.153420</td>\n",
       "      <td>155.548223</td>\n",
       "      <td>32.400000</td>\n",
       "      <td>0.372500</td>\n",
       "      <td>29.000000</td>\n",
       "      <td>0.000000</td>\n",
       "    </tr>\n",
       "    <tr>\n",
       "      <th>75%</th>\n",
       "      <td>6.000000</td>\n",
       "      <td>140.250000</td>\n",
       "      <td>80.000000</td>\n",
       "      <td>32.000000</td>\n",
       "      <td>155.548223</td>\n",
       "      <td>36.600000</td>\n",
       "      <td>0.626250</td>\n",
       "      <td>41.000000</td>\n",
       "      <td>1.000000</td>\n",
       "    </tr>\n",
       "    <tr>\n",
       "      <th>max</th>\n",
       "      <td>17.000000</td>\n",
       "      <td>199.000000</td>\n",
       "      <td>122.000000</td>\n",
       "      <td>99.000000</td>\n",
       "      <td>846.000000</td>\n",
       "      <td>67.100000</td>\n",
       "      <td>2.420000</td>\n",
       "      <td>81.000000</td>\n",
       "      <td>1.000000</td>\n",
       "    </tr>\n",
       "  </tbody>\n",
       "</table>\n",
       "</div>"
      ],
      "text/plain": [
       "       Pregnancies     Glucose  BloodPressure  SkinThickness     Insulin  \\\n",
       "count   768.000000  768.000000     768.000000     768.000000  768.000000   \n",
       "mean      3.845052  121.686763      72.405184      29.153420  155.548223   \n",
       "std       3.369578   30.435949      12.096346       8.790942   85.021108   \n",
       "min       0.000000   44.000000      24.000000       7.000000   14.000000   \n",
       "25%       1.000000   99.750000      64.000000      25.000000  121.500000   \n",
       "50%       3.000000  117.000000      72.202592      29.153420  155.548223   \n",
       "75%       6.000000  140.250000      80.000000      32.000000  155.548223   \n",
       "max      17.000000  199.000000     122.000000      99.000000  846.000000   \n",
       "\n",
       "              BMI  DiabetesPedigreeFunction         Age     Outcome  \n",
       "count  768.000000                768.000000  768.000000  768.000000  \n",
       "mean    32.457464                  0.471876   33.240885    0.348958  \n",
       "std      6.875151                  0.331329   11.760232    0.476951  \n",
       "min     18.200000                  0.078000   21.000000    0.000000  \n",
       "25%     27.500000                  0.243750   24.000000    0.000000  \n",
       "50%     32.400000                  0.372500   29.000000    0.000000  \n",
       "75%     36.600000                  0.626250   41.000000    1.000000  \n",
       "max     67.100000                  2.420000   81.000000    1.000000  "
      ]
     },
     "execution_count": 20,
     "metadata": {},
     "output_type": "execute_result"
    }
   ],
   "source": [
    "\"\"\"The data looks good, no minimal values of 0 where they should not be\"\"\"\n",
    "ds_train.describe()\n"
   ]
  },
  {
   "cell_type": "code",
   "execution_count": 21,
   "metadata": {},
   "outputs": [
    {
     "name": "stdout",
     "output_type": "stream",
     "text": [
      "     Pregnancies     Glucose  BloodPressure  SkinThickness     Insulin  \\\n",
      "0      20.947730  445.897098     215.641144     107.282891  468.519060   \n",
      "1       1.577564  257.475892     199.772729      89.045396  466.093124   \n",
      "2      21.722686  550.174349     189.519780      87.596271  466.451989   \n",
      "3       4.131501  268.554021     195.419150      70.485262  281.789543   \n",
      "4      -1.141087  411.091573     120.626040     103.666987  506.897725   \n",
      "..           ...         ...            ...            ...         ...   \n",
      "763    30.627769  304.564658     226.643246     141.537725  541.103583   \n",
      "764     6.526825  366.650823     210.838669      82.091962  467.000547   \n",
      "765    13.992232  363.415328     213.089216      70.515630  337.270651   \n",
      "766     3.860728  380.419738     180.384431      84.757113  469.449674   \n",
      "767     4.088158  278.442382     208.834913      90.346410  464.598333   \n",
      "\n",
      "            BMI  DiabetesPedigreeFunction         Age  \n",
      "0    103.218622                  3.902623  150.078425  \n",
      "1     79.844407                  2.447883   92.297838  \n",
      "2     68.321920                  1.878803   95.750715  \n",
      "3     84.440603                 -1.685723   64.982155  \n",
      "4    130.627624                  9.274247  101.869978  \n",
      "..          ...                       ...         ...  \n",
      "763   96.865973                 -0.377659  187.950419  \n",
      "764  112.019676                 -0.956119   82.100323  \n",
      "765   75.733221                 -0.245633   89.977067  \n",
      "766   91.415000                  2.526092  142.071949  \n",
      "767   90.815854                  3.022280   70.255318  \n",
      "\n",
      "[768 rows x 8 columns]\n"
     ]
    }
   ],
   "source": [
    "\"\"\"Here I prepared the dataset in order to begin training the model\"\"\"\n",
    "y=ds_train['Outcome']\n",
    "X=ds_train.copy()\n",
    "X.pop('Outcome')\n",
    "X.shape\n",
    "noise=np.random.uniform(-3,3,X.shape)\n",
    "X=3*X+noise\n",
    "print(X)\n"
   ]
  },
  {
   "cell_type": "code",
   "execution_count": 22,
   "metadata": {},
   "outputs": [],
   "source": [
    "\"\"\"I split the Dataset from above into 2 batches, one for training and another for testing, trained the model, and then started a prediction on the testing dataset\"\"\"\n",
    "X_train,X_test,y_train,y_test=train_test_split(X,y,test_size=0.4,random_state=42)\n",
    "\n",
    "lr=LinearRegression()\n",
    "lr.fit(X_train,y_train)\n",
    "\n",
    "y_pred=lr.predict(X_test)\n",
    "y_pred = [choose(x) for x in y_pred]\n"
   ]
  },
  {
   "cell_type": "code",
   "execution_count": 23,
   "metadata": {},
   "outputs": [
    {
     "name": "stdout",
     "output_type": "stream",
     "text": [
      "The mean squared error is: 0.2435064935064935\n",
      "The mean absolute error is: 0.2435064935064935\n"
     ]
    }
   ],
   "source": [
    "\"\"\"Calculated the error\"\"\"\n",
    "meansqr=mean_squared_error(y_pred, y_test)\n",
    "meanabs=mean_absolute_error(y_pred, y_test)\n",
    "print(\"The mean squared error is:\",meansqr)\n",
    "print(\"The mean absolute error is:\",meanabs)\n"
   ]
  },
  {
   "cell_type": "code",
   "execution_count": 24,
   "metadata": {},
   "outputs": [
    {
     "data": {
      "image/png": "[encoded data removed]",
      "text/plain": [
       "<Figure size 1000x600 with 2 Axes>"
      ]
     },
     "metadata": {},
     "output_type": "display_data"
    },
    {
     "name": "stdout",
     "output_type": "stream",
     "text": [
      "The accuracy score of the prediction is: 0.7564935064935064\n"
     ]
    }
   ],
   "source": [
    "\"\"\"Made a plot using confusion matrix to better visualise the output, and used accuracy_score() to check how accurate the prediction is\"\"\"\n",
    "cm=confusion_matrix(y_test,y_pred)\n",
    "plt.figure(figsize=(10,6))\n",
    "sns.heatmap(cm,annot=True)\n",
    "plt.xlabel('Actual Values')\n",
    "plt.ylabel('Predicted Values')\n",
    "plt.show()\n",
    "score=accuracy_score(y_test,y_pred)\n",
    "print(\"The accuracy score of the prediction is:\",score)\n",
    "\n"
   ]
  },
  {
   "cell_type": "code",
   "execution_count": 25,
   "metadata": {},
   "outputs": [
    {
     "name": "stdout",
     "output_type": "stream",
     "text": [
      "The accuracy score of the prediction is: 0.7669270833333334\n"
     ]
    },
    {
     "data": {
      "image/png": "[encoded data removed]",
      "text/plain": [
       "<Figure size 1000x600 with 2 Axes>"
      ]
     },
     "metadata": {},
     "output_type": "display_data"
    }
   ],
   "source": [
    "\"\"\"Here I decided to run the model once on the entire dataset, see how it would fare with all the information\"\"\"\n",
    "y=ds_train['Outcome']\n",
    "X=ds_train.copy()\n",
    "X.pop('Outcome')\n",
    "X.shape\n",
    "noise=np.random.uniform(-3,3,X.shape)\n",
    "X=3*X+noise\n",
    "prediction=lr.predict(X)\n",
    "prediction = [choose(x) for x in prediction]\n",
    "\n",
    "\n",
    "cm=confusion_matrix(prediction,y)\n",
    "plt.figure(figsize=(10,6))\n",
    "sns.heatmap(cm,annot=True)\n",
    "plt.xlabel('Actual Values')\n",
    "plt.ylabel('Predicted Values')\n",
    "\n",
    "\n",
    "\n",
    "score=accuracy_score(y,prediction)\n",
    "print(\"The accuracy score of the prediction is:\",score)\n",
    "\n",
    "\n",
    "\n"
   ]
  },
  {
   "cell_type": "code",
   "execution_count": 28,
   "metadata": {},
   "outputs": [
    {
     "name": "stdout",
     "output_type": "stream",
     "text": [
      "based on the data, the person is:  Sick\n",
      "1\n"
     ]
    }
   ],
   "source": [
    "\"\"\"Next I decided to make a way to predict wether or not a person is Diabetic using manual input\"\"\"\n",
    "test=ds_train.sample()\n",
    "test.pop('Outcome')\n",
    "for i in test:\n",
    "    test[i]=float(input(test[i].name))\n",
    "result=choose(lr.predict(3*test+np.random.randint(-3,3)))\n",
    "x=\"Sick\" if result==1 else \"Healthy\"\n",
    "print(\"based on the data, the person is: \",x)\n",
    "print(result)"
   ]
  },
  {
   "attachments": {},
   "cell_type": "markdown",
   "metadata": {},
   "source": [
    "In conclusion, My initial assumption that the values of 0 are indeed missing and not the actual recorded value proved to be true, as testing has shown an increase of 1-2% accuraccy. I have spent a while trying to make the accuracy higher, modifying values here and there, but unless I try implementing a different model I do not see any way to greatly increase the performance here. I have debated on using PCA to simplify the function, but decided against it, as I did not want to commit any data loss if possible, even if it was minor. I am not entierly sure how good an accuracy score of 75% realistically is, however I definitely look forward to finding out new ways of increasing this accuracy to higher heights. I think this was a great learning opportunity and has given me a clear understanding of the basic functionality of sklearn and other libraries and how I can use it to make predictions. "
   ]
  }
 ],
 "metadata": {
  "kernelspec": {
   "display_name": "Python 3",
   "language": "python",
   "name": "python3"
  },
  "language_info": {
   "codemirror_mode": {
    "name": "ipython",
    "version": 3
   },
   "file_extension": ".py",
   "mimetype": "text/x-python",
   "name": "python",
   "nbconvert_exporter": "python",
   "pygments_lexer": "ipython3",
   "version": "3.10.6"
  },
  "orig_nbformat": 4,
  "vscode": {
   "interpreter": {
    "hash": "916dbcbb3f70747c44a77c7bcd40155683ae19c65e1c03b4aa3499c5328201f1"
   }
  }
 },
 "nbformat": 4,
 "nbformat_minor": 2
}
