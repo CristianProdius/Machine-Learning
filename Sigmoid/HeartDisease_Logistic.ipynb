{
  "nbformat": 4,
  "nbformat_minor": 0,
  "metadata": {
    "colab": {
      "provenance": []
    },
    "kernelspec": {
      "name": "python3",
      "display_name": "Python 3"
    },
    "language_info": {
      "name": "python"
    }
  },
  "cells": [
    {
      "cell_type": "code",
      "execution_count": 2,
      "metadata": {
        "id": "Ny8re1cx6Upa"
      },
      "outputs": [],
      "source": [
        "from sklearn.linear_model import LogisticRegression\n",
        "from sklearn.model_selection import train_test_split\n",
        "import pandas as pd"
      ]
    },
    {
      "cell_type": "markdown",
      "source": [
        "Importing all necessary modules/functions"
      ],
      "metadata": {
        "id": "BBxClQ0YjyJn"
      }
    },
    {
      "cell_type": "code",
      "source": [
        "from google.colab import drive\n",
        "drive.mount('/content/gdrive')\n",
        "\n",
        "import os\n",
        "os.environ['KAGGLE_CONFIG_DIR'] = \"/content/gdrive/My Drive/Kaggle\"# /content/gdrive/My Drive/Kaggle is the path where kaggle.json is present in the Google Drive\n",
        "\n",
        "#changing the working directory\n",
        "%cd /content/gdrive/My Drive/Kaggle#Check the present working directory using pwd command\n",
        "\n",
        "!kaggle datasets download -d fedesoriano/heart-failure-prediction\n",
        "#unzipping the zip files and deleting the zip files\n",
        "!unzip \\*.zip  && rm *.zip\n",
        "\n",
        "\n"
      ],
      "metadata": {
        "colab": {
          "base_uri": "https://localhost:8080/"
        },
        "id": "Vzo2s4qM6jAL",
        "outputId": "2e174c92-8732-4fbc-bebf-8f4827baae3f"
      },
      "execution_count": 3,
      "outputs": [
        {
          "output_type": "stream",
          "name": "stdout",
          "text": [
            "Mounted at /content/gdrive\n",
            "[Errno 2] No such file or directory: '/content/gdrive/My Drive/Kaggle#Check the present working directory using pwd command'\n",
            "/content\n",
            "Downloading heart-failure-prediction.zip to /content\n",
            "  0% 0.00/8.56k [00:00<?, ?B/s]\n",
            "100% 8.56k/8.56k [00:00<00:00, 22.0MB/s]\n",
            "Archive:  heart-failure-prediction.zip\n",
            "  inflating: heart.csv               \n"
          ]
        }
      ]
    },
    {
      "cell_type": "code",
      "source": [
        "df=pd.read_csv(\"/content/heart.csv\")"
      ],
      "metadata": {
        "id": "7VtLKP9s6mMf"
      },
      "execution_count": 4,
      "outputs": []
    },
    {
      "cell_type": "markdown",
      "source": [
        "Loaded the Heart Disease dataset:\n",
        "https://www.notion.so/Heart-Disease-bd320879d77046db8ca478de2ddd49f8?pvs=4"
      ],
      "metadata": {
        "id": "Avr2464WimYP"
      }
    },
    {
      "cell_type": "code",
      "source": [
        "df.groupby(['Sex']).count()\n",
        "df.groupby(['ChestPainType']).count()\n",
        "df.groupby(['RestingECG']).count()\n",
        "df.groupby(['ExerciseAngina']).count()\n",
        "df.groupby(['ST_Slope']).count()"
      ],
      "metadata": {
        "id": "lFUXFuGf7Y0W",
        "colab": {
          "base_uri": "https://localhost:8080/",
          "height": 175
        },
        "outputId": "594e31d1-d237-439d-dd85-df6e7018794a"
      },
      "execution_count": 5,
      "outputs": [
        {
          "output_type": "execute_result",
          "data": {
            "text/plain": [
              "          Age  Sex  ChestPainType  RestingBP  Cholesterol  FastingBS  \\\n",
              "ST_Slope                                                               \n",
              "Down       63   63             63         63           63         63   \n",
              "Flat      460  460            460        460          460        460   \n",
              "Up        395  395            395        395          395        395   \n",
              "\n",
              "          RestingECG  MaxHR  ExerciseAngina  Oldpeak  HeartDisease  \n",
              "ST_Slope                                                            \n",
              "Down              63     63              63       63            63  \n",
              "Flat             460    460             460      460           460  \n",
              "Up               395    395             395      395           395  "
            ],
            "text/html": [
              "\n",
              "  <div id=\"df-2f600393-cccd-4021-9027-f6ea226cb773\">\n",
              "    <div class=\"colab-df-container\">\n",
              "      <div>\n",
              "<style scoped>\n",
              "    .dataframe tbody tr th:only-of-type {\n",
              "        vertical-align: middle;\n",
              "    }\n",
              "\n",
              "    .dataframe tbody tr th {\n",
              "        vertical-align: top;\n",
              "    }\n",
              "\n",
              "    .dataframe thead th {\n",
              "        text-align: right;\n",
              "    }\n",
              "</style>\n",
              "<table border=\"1\" class=\"dataframe\">\n",
              "  <thead>\n",
              "    <tr style=\"text-align: right;\">\n",
              "      <th></th>\n",
              "      <th>Age</th>\n",
              "      <th>Sex</th>\n",
              "      <th>ChestPainType</th>\n",
              "      <th>RestingBP</th>\n",
              "      <th>Cholesterol</th>\n",
              "      <th>FastingBS</th>\n",
              "      <th>RestingECG</th>\n",
              "      <th>MaxHR</th>\n",
              "      <th>ExerciseAngina</th>\n",
              "      <th>Oldpeak</th>\n",
              "      <th>HeartDisease</th>\n",
              "    </tr>\n",
              "    <tr>\n",
              "      <th>ST_Slope</th>\n",
              "      <th></th>\n",
              "      <th></th>\n",
              "      <th></th>\n",
              "      <th></th>\n",
              "      <th></th>\n",
              "      <th></th>\n",
              "      <th></th>\n",
              "      <th></th>\n",
              "      <th></th>\n",
              "      <th></th>\n",
              "      <th></th>\n",
              "    </tr>\n",
              "  </thead>\n",
              "  <tbody>\n",
              "    <tr>\n",
              "      <th>Down</th>\n",
              "      <td>63</td>\n",
              "      <td>63</td>\n",
              "      <td>63</td>\n",
              "      <td>63</td>\n",
              "      <td>63</td>\n",
              "      <td>63</td>\n",
              "      <td>63</td>\n",
              "      <td>63</td>\n",
              "      <td>63</td>\n",
              "      <td>63</td>\n",
              "      <td>63</td>\n",
              "    </tr>\n",
              "    <tr>\n",
              "      <th>Flat</th>\n",
              "      <td>460</td>\n",
              "      <td>460</td>\n",
              "      <td>460</td>\n",
              "      <td>460</td>\n",
              "      <td>460</td>\n",
              "      <td>460</td>\n",
              "      <td>460</td>\n",
              "      <td>460</td>\n",
              "      <td>460</td>\n",
              "      <td>460</td>\n",
              "      <td>460</td>\n",
              "    </tr>\n",
              "    <tr>\n",
              "      <th>Up</th>\n",
              "      <td>395</td>\n",
              "      <td>395</td>\n",
              "      <td>395</td>\n",
              "      <td>395</td>\n",
              "      <td>395</td>\n",
              "      <td>395</td>\n",
              "      <td>395</td>\n",
              "      <td>395</td>\n",
              "      <td>395</td>\n",
              "      <td>395</td>\n",
              "      <td>395</td>\n",
              "    </tr>\n",
              "  </tbody>\n",
              "</table>\n",
              "</div>\n",
              "      <button class=\"colab-df-convert\" onclick=\"convertToInteractive('df-2f600393-cccd-4021-9027-f6ea226cb773')\"\n",
              "              title=\"Convert this dataframe to an interactive table.\"\n",
              "              style=\"display:none;\">\n",
              "        \n",
              "  <svg xmlns=\"http://www.w3.org/2000/svg\" height=\"24px\"viewBox=\"0 0 24 24\"\n",
              "       width=\"24px\">\n",
              "    <path d=\"M0 0h24v24H0V0z\" fill=\"none\"/>\n",
              "    <path d=\"M18.56 5.44l.94 2.06.94-2.06 2.06-.94-2.06-.94-.94-2.06-.94 2.06-2.06.94zm-11 1L8.5 8.5l.94-2.06 2.06-.94-2.06-.94L8.5 2.5l-.94 2.06-2.06.94zm10 10l.94 2.06.94-2.06 2.06-.94-2.06-.94-.94-2.06-.94 2.06-2.06.94z\"/><path d=\"M17.41 7.96l-1.37-1.37c-.4-.4-.92-.59-1.43-.59-.52 0-1.04.2-1.43.59L10.3 9.45l-7.72 7.72c-.78.78-.78 2.05 0 2.83L4 21.41c.39.39.9.59 1.41.59.51 0 1.02-.2 1.41-.59l7.78-7.78 2.81-2.81c.8-.78.8-2.07 0-2.86zM5.41 20L4 18.59l7.72-7.72 1.47 1.35L5.41 20z\"/>\n",
              "  </svg>\n",
              "      </button>\n",
              "      \n",
              "  <style>\n",
              "    .colab-df-container {\n",
              "      display:flex;\n",
              "      flex-wrap:wrap;\n",
              "      gap: 12px;\n",
              "    }\n",
              "\n",
              "    .colab-df-convert {\n",
              "      background-color: #E8F0FE;\n",
              "      border: none;\n",
              "      border-radius: 50%;\n",
              "      cursor: pointer;\n",
              "      display: none;\n",
              "      fill: #1967D2;\n",
              "      height: 32px;\n",
              "      padding: 0 0 0 0;\n",
              "      width: 32px;\n",
              "    }\n",
              "\n",
              "    .colab-df-convert:hover {\n",
              "      background-color: #E2EBFA;\n",
              "      box-shadow: 0px 1px 2px rgba(60, 64, 67, 0.3), 0px 1px 3px 1px rgba(60, 64, 67, 0.15);\n",
              "      fill: #174EA6;\n",
              "    }\n",
              "\n",
              "    [theme=dark] .colab-df-convert {\n",
              "      background-color: #3B4455;\n",
              "      fill: #D2E3FC;\n",
              "    }\n",
              "\n",
              "    [theme=dark] .colab-df-convert:hover {\n",
              "      background-color: #434B5C;\n",
              "      box-shadow: 0px 1px 3px 1px rgba(0, 0, 0, 0.15);\n",
              "      filter: drop-shadow(0px 1px 2px rgba(0, 0, 0, 0.3));\n",
              "      fill: #FFFFFF;\n",
              "    }\n",
              "  </style>\n",
              "\n",
              "      <script>\n",
              "        const buttonEl =\n",
              "          document.querySelector('#df-2f600393-cccd-4021-9027-f6ea226cb773 button.colab-df-convert');\n",
              "        buttonEl.style.display =\n",
              "          google.colab.kernel.accessAllowed ? 'block' : 'none';\n",
              "\n",
              "        async function convertToInteractive(key) {\n",
              "          const element = document.querySelector('#df-2f600393-cccd-4021-9027-f6ea226cb773');\n",
              "          const dataTable =\n",
              "            await google.colab.kernel.invokeFunction('convertToInteractive',\n",
              "                                                     [key], {});\n",
              "          if (!dataTable) return;\n",
              "\n",
              "          const docLinkHtml = 'Like what you see? Visit the ' +\n",
              "            '<a target=\"_blank\" href=https://colab.research.google.com/notebooks/data_table.ipynb>data table notebook</a>'\n",
              "            + ' to learn more about interactive tables.';\n",
              "          element.innerHTML = '';\n",
              "          dataTable['output_type'] = 'display_data';\n",
              "          await google.colab.output.renderOutput(dataTable, element);\n",
              "          const docLink = document.createElement('div');\n",
              "          docLink.innerHTML = docLinkHtml;\n",
              "          element.appendChild(docLink);\n",
              "        }\n",
              "      </script>\n",
              "    </div>\n",
              "  </div>\n",
              "  "
            ]
          },
          "metadata": {},
          "execution_count": 5
        }
      ]
    },
    {
      "cell_type": "markdown",
      "source": [
        "Checked the different values of the features where the values are non numeric"
      ],
      "metadata": {
        "id": "75s1873gizoX"
      }
    },
    {
      "cell_type": "code",
      "source": [
        "df[\"Sex\"] = df[\"Sex\"].map({\"F\" : 0, \"M\" : 1})\n",
        "df[\"ChestPainType\"] = df[\"ChestPainType\"].map({\"ATA\" : 0, \"NAP\" : 1,\"ASY\": 2 ,\"TA\":3})\n",
        "df[\"RestingECG\"] = df[\"RestingECG\"].map({\"Normal\" : 0, \"ST\" : 1,\"LVH\":2})\n",
        "df[\"ExerciseAngina\"] = df[\"ExerciseAngina\"].map({\"N\" : 0, \"Y\" : 1})\n",
        "df[\"ST_Slope\"] = df[\"ST_Slope\"].map({\"Up\" : 0, \"Flat\" : 1,\"Down\":2})\n",
        "\n"
      ],
      "metadata": {
        "id": "3s8lc4h27zf5"
      },
      "execution_count": 6,
      "outputs": []
    },
    {
      "cell_type": "markdown",
      "source": [
        "Mapped the non numeric features to numeric values"
      ],
      "metadata": {
        "id": "PgMfL3rai6Yb"
      }
    },
    {
      "cell_type": "code",
      "source": [
        "df.info()"
      ],
      "metadata": {
        "colab": {
          "base_uri": "https://localhost:8080/"
        },
        "id": "_OzkQDVt8mHF",
        "outputId": "0fdd048f-0ff8-413b-e781-f3bbf16cdfa5"
      },
      "execution_count": 7,
      "outputs": [
        {
          "output_type": "stream",
          "name": "stdout",
          "text": [
            "<class 'pandas.core.frame.DataFrame'>\n",
            "RangeIndex: 918 entries, 0 to 917\n",
            "Data columns (total 12 columns):\n",
            " #   Column          Non-Null Count  Dtype  \n",
            "---  ------          --------------  -----  \n",
            " 0   Age             918 non-null    int64  \n",
            " 1   Sex             918 non-null    int64  \n",
            " 2   ChestPainType   918 non-null    int64  \n",
            " 3   RestingBP       918 non-null    int64  \n",
            " 4   Cholesterol     918 non-null    int64  \n",
            " 5   FastingBS       918 non-null    int64  \n",
            " 6   RestingECG      918 non-null    int64  \n",
            " 7   MaxHR           918 non-null    int64  \n",
            " 8   ExerciseAngina  918 non-null    int64  \n",
            " 9   Oldpeak         918 non-null    float64\n",
            " 10  ST_Slope        918 non-null    int64  \n",
            " 11  HeartDisease    918 non-null    int64  \n",
            "dtypes: float64(1), int64(11)\n",
            "memory usage: 86.2 KB\n"
          ]
        }
      ]
    },
    {
      "cell_type": "code",
      "source": [
        "corr=df.corrwith(df[\"HeartDisease\"]).abs().drop(\"HeartDisease\").sort_values(ascending=False)\n",
        "newcorr=[i for i,j in corr.items() if j>0.5 and j<0.8]\n",
        "X=pd.DataFrame(df[i]for i in newcorr).T\n",
        "y=df[\"HeartDisease\"]\n",
        "corr"
      ],
      "metadata": {
        "id": "a8htjCx08onM",
        "colab": {
          "base_uri": "https://localhost:8080/"
        },
        "outputId": "b35c4702-8b72-43a3-ccc0-eb8e1e5d51d7"
      },
      "execution_count": 8,
      "outputs": [
        {
          "output_type": "execute_result",
          "data": {
            "text/plain": [
              "ST_Slope          0.558771\n",
              "ExerciseAngina    0.494282\n",
              "ChestPainType     0.459017\n",
              "Oldpeak           0.403951\n",
              "MaxHR             0.400421\n",
              "Sex               0.305445\n",
              "Age               0.282039\n",
              "FastingBS         0.267291\n",
              "Cholesterol       0.232741\n",
              "RestingBP         0.107589\n",
              "RestingECG        0.061011\n",
              "dtype: float64"
            ]
          },
          "metadata": {},
          "execution_count": 8
        }
      ]
    },
    {
      "cell_type": "markdown",
      "source": [
        "CHecked the absolute correlation to the target data, and created a new dataframe with those where correlation is between 0.5 and 0.8. Which is only ST_SLope"
      ],
      "metadata": {
        "id": "P9mGljYwjBA-"
      }
    },
    {
      "cell_type": "code",
      "source": [
        "X_train, X_test, y_train, y_test=train_test_split(X, y, test_size=0.2, random_state=42)\n"
      ],
      "metadata": {
        "id": "BumD_xXXasFX"
      },
      "execution_count": 9,
      "outputs": []
    },
    {
      "cell_type": "markdown",
      "source": [
        "Split the Data into train and test parts"
      ],
      "metadata": {
        "id": "uOzp8VAQjQNJ"
      }
    },
    {
      "cell_type": "code",
      "source": [
        "Lr=LogisticRegression()\n",
        "Lr.fit(X_train,y_train)\n",
        "y_pred=Lr.predict(X_test)\n",
        "y_pred=[[i]for i in y_pred]\n",
        "Lr.score(y_pred,y_test)"
      ],
      "metadata": {
        "id": "8ZKRBtpccJ-p",
        "colab": {
          "base_uri": "https://localhost:8080/"
        },
        "outputId": "048b06e0-3075-443b-8c9d-59b6bec2b9b2"
      },
      "execution_count": 13,
      "outputs": [
        {
          "output_type": "stream",
          "name": "stderr",
          "text": [
            "/usr/local/lib/python3.10/dist-packages/sklearn/base.py:439: UserWarning: X does not have valid feature names, but LogisticRegression was fitted with feature names\n",
            "  warnings.warn(\n"
          ]
        },
        {
          "output_type": "execute_result",
          "data": {
            "text/plain": [
              "0.7989130434782609"
            ]
          },
          "metadata": {},
          "execution_count": 13
        }
      ]
    },
    {
      "cell_type": "markdown",
      "source": [
        "Created a Logistics regression model and fitted it with the train data. As well as made predictions based on the model, and checked for its accuracy"
      ],
      "metadata": {
        "id": "mSSVCXTtjWDq"
      }
    },
    {
      "cell_type": "markdown",
      "source": [
        "The result has an accuracy of 75-80% based on various tests, which is a pretty good result, Clearly ST_Slope is a very import factor when it comes to Heart Diseases"
      ],
      "metadata": {
        "id": "gqyYnkDYjhNo"
      }
    }
  ]
}