{
 "cells": [
  {
   "cell_type": "code",
   "execution_count": 1,
   "id": "bbf9c1ab",
   "metadata": {},
   "outputs": [],
   "source": [
    "import numpy as np "
   ]
  },
  {
   "cell_type": "code",
   "execution_count": 3,
   "id": "c22e4e04",
   "metadata": {},
   "outputs": [],
   "source": [
    "def normal_distribution(x, mu, sigma):\n",
    "    numerator = np.exp((-1/2)*(((x-mu)/(sigma))**2))\n",
    "    denominator = sigma* np.sqrt(2*np.pi)\n",
    "    return numerator/denominator\n",
    "                    "
   ]
  },
  {
   "cell_type": "code",
   "execution_count": 4,
   "id": "0c6ce012",
   "metadata": {},
   "outputs": [],
   "source": [
    "def sigmoid(x):\n",
    "    return 1/(1+np.exp(-x))"
   ]
  },
  {
   "cell_type": "code",
   "execution_count": 6,
   "id": "31e3895f",
   "metadata": {},
   "outputs": [],
   "source": [
    "def logistic_regression_weight_update(w, X, y, y_pred, alpha=0.0005):\n",
    "    n = len(y)\n",
    "    error = y_pred - y\n",
    "    for j in range(len(w)):\n",
    "        gradient = (1/n) * np.sum(error * X[:,j])\n",
    "        w[j] = w[j] - alpha * gradient\n",
    "    return w\n"
   ]
  },
  {
   "cell_type": "code",
   "execution_count": 7,
   "id": "9e1a5789",
   "metadata": {},
   "outputs": [],
   "source": [
    "def mean_squared_error(y, y_pred):\n",
    "    mse = np.mean((y - y_pred)**2)\n",
    "    return mse\n"
   ]
  },
  {
   "cell_type": "code",
   "execution_count": 8,
   "id": "2c9416dc",
   "metadata": {},
   "outputs": [],
   "source": [
    "def binary_cross_entropy_loss(y, y_pred):\n",
    "    output_size = len(y)\n",
    "    loss = -1/output_size * np.sum(y * np.log(y_pred) + (1 - y) * np.log(1 - y_pred))\n",
    "    return loss\n"
   ]
  }
 ],
 "metadata": {
  "kernelspec": {
   "display_name": "Python 3 (ipykernel)",
   "language": "python",
   "name": "python3"
  },
  "language_info": {
   "codemirror_mode": {
    "name": "ipython",
    "version": 3
   },
   "file_extension": ".py",
   "mimetype": "text/x-python",
   "name": "python",
   "nbconvert_exporter": "python",
   "pygments_lexer": "ipython3",
   "version": "3.11.3"
  }
 },
 "nbformat": 4,
 "nbformat_minor": 5
}
