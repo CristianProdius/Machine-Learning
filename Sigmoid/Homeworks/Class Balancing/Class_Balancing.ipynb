{
 "cells": [
  {
   "cell_type": "code",
   "execution_count": 1,
   "id": "4f2fc853",
   "metadata": {},
   "outputs": [
    {
     "data": {
      "text/html": [
       "<div>\n",
       "<style scoped>\n",
       "    .dataframe tbody tr th:only-of-type {\n",
       "        vertical-align: middle;\n",
       "    }\n",
       "\n",
       "    .dataframe tbody tr th {\n",
       "        vertical-align: top;\n",
       "    }\n",
       "\n",
       "    .dataframe thead th {\n",
       "        text-align: right;\n",
       "    }\n",
       "</style>\n",
       "<table border=\"1\" class=\"dataframe\">\n",
       "  <thead>\n",
       "    <tr style=\"text-align: right;\">\n",
       "      <th></th>\n",
       "      <th>#</th>\n",
       "      <th>Total</th>\n",
       "      <th>HP</th>\n",
       "      <th>Attack</th>\n",
       "      <th>Defense</th>\n",
       "      <th>Sp. Atk</th>\n",
       "      <th>Sp. Def</th>\n",
       "      <th>Speed</th>\n",
       "      <th>Generation</th>\n",
       "      <th>Legendary</th>\n",
       "    </tr>\n",
       "  </thead>\n",
       "  <tbody>\n",
       "    <tr>\n",
       "      <th>0</th>\n",
       "      <td>1</td>\n",
       "      <td>318</td>\n",
       "      <td>45</td>\n",
       "      <td>49</td>\n",
       "      <td>49</td>\n",
       "      <td>65</td>\n",
       "      <td>65</td>\n",
       "      <td>45</td>\n",
       "      <td>1</td>\n",
       "      <td>0</td>\n",
       "    </tr>\n",
       "    <tr>\n",
       "      <th>1</th>\n",
       "      <td>2</td>\n",
       "      <td>405</td>\n",
       "      <td>60</td>\n",
       "      <td>62</td>\n",
       "      <td>63</td>\n",
       "      <td>80</td>\n",
       "      <td>80</td>\n",
       "      <td>60</td>\n",
       "      <td>1</td>\n",
       "      <td>0</td>\n",
       "    </tr>\n",
       "    <tr>\n",
       "      <th>2</th>\n",
       "      <td>3</td>\n",
       "      <td>525</td>\n",
       "      <td>80</td>\n",
       "      <td>82</td>\n",
       "      <td>83</td>\n",
       "      <td>100</td>\n",
       "      <td>100</td>\n",
       "      <td>80</td>\n",
       "      <td>1</td>\n",
       "      <td>0</td>\n",
       "    </tr>\n",
       "    <tr>\n",
       "      <th>3</th>\n",
       "      <td>3</td>\n",
       "      <td>625</td>\n",
       "      <td>80</td>\n",
       "      <td>100</td>\n",
       "      <td>123</td>\n",
       "      <td>122</td>\n",
       "      <td>120</td>\n",
       "      <td>80</td>\n",
       "      <td>1</td>\n",
       "      <td>0</td>\n",
       "    </tr>\n",
       "    <tr>\n",
       "      <th>4</th>\n",
       "      <td>4</td>\n",
       "      <td>309</td>\n",
       "      <td>39</td>\n",
       "      <td>52</td>\n",
       "      <td>43</td>\n",
       "      <td>60</td>\n",
       "      <td>50</td>\n",
       "      <td>65</td>\n",
       "      <td>1</td>\n",
       "      <td>0</td>\n",
       "    </tr>\n",
       "    <tr>\n",
       "      <th>...</th>\n",
       "      <td>...</td>\n",
       "      <td>...</td>\n",
       "      <td>...</td>\n",
       "      <td>...</td>\n",
       "      <td>...</td>\n",
       "      <td>...</td>\n",
       "      <td>...</td>\n",
       "      <td>...</td>\n",
       "      <td>...</td>\n",
       "      <td>...</td>\n",
       "    </tr>\n",
       "    <tr>\n",
       "      <th>795</th>\n",
       "      <td>719</td>\n",
       "      <td>600</td>\n",
       "      <td>50</td>\n",
       "      <td>100</td>\n",
       "      <td>150</td>\n",
       "      <td>100</td>\n",
       "      <td>150</td>\n",
       "      <td>50</td>\n",
       "      <td>6</td>\n",
       "      <td>1</td>\n",
       "    </tr>\n",
       "    <tr>\n",
       "      <th>796</th>\n",
       "      <td>719</td>\n",
       "      <td>700</td>\n",
       "      <td>50</td>\n",
       "      <td>160</td>\n",
       "      <td>110</td>\n",
       "      <td>160</td>\n",
       "      <td>110</td>\n",
       "      <td>110</td>\n",
       "      <td>6</td>\n",
       "      <td>1</td>\n",
       "    </tr>\n",
       "    <tr>\n",
       "      <th>797</th>\n",
       "      <td>720</td>\n",
       "      <td>600</td>\n",
       "      <td>80</td>\n",
       "      <td>110</td>\n",
       "      <td>60</td>\n",
       "      <td>150</td>\n",
       "      <td>130</td>\n",
       "      <td>70</td>\n",
       "      <td>6</td>\n",
       "      <td>1</td>\n",
       "    </tr>\n",
       "    <tr>\n",
       "      <th>798</th>\n",
       "      <td>720</td>\n",
       "      <td>680</td>\n",
       "      <td>80</td>\n",
       "      <td>160</td>\n",
       "      <td>60</td>\n",
       "      <td>170</td>\n",
       "      <td>130</td>\n",
       "      <td>80</td>\n",
       "      <td>6</td>\n",
       "      <td>1</td>\n",
       "    </tr>\n",
       "    <tr>\n",
       "      <th>799</th>\n",
       "      <td>721</td>\n",
       "      <td>600</td>\n",
       "      <td>80</td>\n",
       "      <td>110</td>\n",
       "      <td>120</td>\n",
       "      <td>130</td>\n",
       "      <td>90</td>\n",
       "      <td>70</td>\n",
       "      <td>6</td>\n",
       "      <td>1</td>\n",
       "    </tr>\n",
       "  </tbody>\n",
       "</table>\n",
       "<p>800 rows × 10 columns</p>\n",
       "</div>"
      ],
      "text/plain": [
       "       #  Total  HP  Attack  Defense  Sp. Atk  Sp. Def  Speed  Generation   \n",
       "0      1    318  45      49       49       65       65     45           1  \\\n",
       "1      2    405  60      62       63       80       80     60           1   \n",
       "2      3    525  80      82       83      100      100     80           1   \n",
       "3      3    625  80     100      123      122      120     80           1   \n",
       "4      4    309  39      52       43       60       50     65           1   \n",
       "..   ...    ...  ..     ...      ...      ...      ...    ...         ...   \n",
       "795  719    600  50     100      150      100      150     50           6   \n",
       "796  719    700  50     160      110      160      110    110           6   \n",
       "797  720    600  80     110       60      150      130     70           6   \n",
       "798  720    680  80     160       60      170      130     80           6   \n",
       "799  721    600  80     110      120      130       90     70           6   \n",
       "\n",
       "     Legendary  \n",
       "0            0  \n",
       "1            0  \n",
       "2            0  \n",
       "3            0  \n",
       "4            0  \n",
       "..         ...  \n",
       "795          1  \n",
       "796          1  \n",
       "797          1  \n",
       "798          1  \n",
       "799          1  \n",
       "\n",
       "[800 rows x 10 columns]"
      ]
     },
     "execution_count": 1,
     "metadata": {},
     "output_type": "execute_result"
    },
    {
     "data": {
      "image/png": "[encoded data removed]",
      "text/plain": [
       "<Figure size 640x480 with 1 Axes>"
      ]
     },
     "metadata": {},
     "output_type": "display_data"
    }
   ],
   "source": [
    "import pandas as pd\n",
    "import numpy as np\n",
    "df = pd.read_csv('Pokemon.csv')\n",
    "beta = df['Legendary']\n",
    "df[\"Legendary\"] = df[\"Legendary\"].astype(int)\n",
    "# Visualise the data\n",
    "beta.value_counts().plot.pie()\n",
    "# print(df['Legendary'].dtype)\n",
    "df = df.drop(['Name','Type 1','Type 2'], axis=1)\n",
    "df"
   ]
  },
  {
   "cell_type": "markdown",
   "id": "f195b9ff",
   "metadata": {},
   "source": [
    "## SMOTE."
   ]
  },
  {
   "cell_type": "code",
   "execution_count": 5,
   "id": "f275275a",
   "metadata": {},
   "outputs": [
    {
     "ename": "ModuleNotFoundError",
     "evalue": "No module named 'crucio'",
     "output_type": "error",
     "traceback": [
      "\u001b[1;31m---------------------------------------------------------------------------\u001b[0m",
      "\u001b[1;31mModuleNotFoundError\u001b[0m                       Traceback (most recent call last)",
      "Cell \u001b[1;32mIn[5], line 1\u001b[0m\n\u001b[1;32m----> 1\u001b[0m \u001b[38;5;28;01mfrom\u001b[39;00m \u001b[38;5;21;01mcrucio\u001b[39;00m \u001b[38;5;28;01mimport\u001b[39;00m SMOTE\n\u001b[0;32m      2\u001b[0m smote \u001b[38;5;241m=\u001b[39m SMOTE()\n\u001b[0;32m      3\u001b[0m balanced_df1 \u001b[38;5;241m=\u001b[39m smote\u001b[38;5;241m.\u001b[39mbalance(df, \u001b[38;5;124m'\u001b[39m\u001b[38;5;124mLegendary\u001b[39m\u001b[38;5;124m'\u001b[39m)\n",
      "\u001b[1;31mModuleNotFoundError\u001b[0m: No module named 'crucio'"
     ]
    }
   ],
   "source": [
    "from crucio import SMOTE\n",
    "smote = SMOTE()\n",
    "balanced_df1 = smote.balance(df, 'Legendary')\n",
    "balanced_df1 \n",
    "balanced_df1['Legendary'].value_counts().plot.pie()\n"
   ]
  },
  {
   "cell_type": "markdown",
   "id": "a4ee7a83",
   "metadata": {},
   "source": [
    "## SMOTEENN."
   ]
  },
  {
   "cell_type": "code",
   "execution_count": 2,
   "id": "63353241",
   "metadata": {},
   "outputs": [
    {
     "ename": "ModuleNotFoundError",
     "evalue": "No module named 'crucio'",
     "output_type": "error",
     "traceback": [
      "\u001b[1;31m---------------------------------------------------------------------------\u001b[0m",
      "\u001b[1;31mModuleNotFoundError\u001b[0m                       Traceback (most recent call last)",
      "Cell \u001b[1;32mIn[2], line 1\u001b[0m\n\u001b[1;32m----> 1\u001b[0m \u001b[38;5;28;01mfrom\u001b[39;00m \u001b[38;5;21;01mcrucio\u001b[39;00m \u001b[38;5;28;01mimport\u001b[39;00m SMOTEENN\n\u001b[0;32m      2\u001b[0m smoteenn \u001b[38;5;241m=\u001b[39m SMOTEENN()\n\u001b[0;32m      3\u001b[0m balanced_df2 \u001b[38;5;241m=\u001b[39m smoteenn\u001b[38;5;241m.\u001b[39mbalance(df, \u001b[38;5;124m'\u001b[39m\u001b[38;5;124mLegendary\u001b[39m\u001b[38;5;124m'\u001b[39m)\n",
      "\u001b[1;31mModuleNotFoundError\u001b[0m: No module named 'crucio'"
     ]
    }
   ],
   "source": [
    "from crucio import SMOTEENN\n",
    "smoteenn = SMOTEENN()\n",
    "balanced_df2 = smoteenn.balance(df, 'Legendary')\n",
    "balanced_df2\n",
    "balanced_df2['Legendary'].value_counts().plot.pie()\n"
   ]
  },
  {
   "cell_type": "markdown",
   "id": "0d4973d5",
   "metadata": {},
   "source": [
    "## ICOTE"
   ]
  },
  {
   "cell_type": "code",
   "execution_count": 3,
   "id": "1bac83d9",
   "metadata": {},
   "outputs": [
    {
     "ename": "ModuleNotFoundError",
     "evalue": "No module named 'crucio'",
     "output_type": "error",
     "traceback": [
      "\u001b[1;31m---------------------------------------------------------------------------\u001b[0m",
      "\u001b[1;31mModuleNotFoundError\u001b[0m                       Traceback (most recent call last)",
      "Cell \u001b[1;32mIn[3], line 1\u001b[0m\n\u001b[1;32m----> 1\u001b[0m \u001b[38;5;28;01mfrom\u001b[39;00m \u001b[38;5;21;01mcrucio\u001b[39;00m \u001b[38;5;28;01mimport\u001b[39;00m ICOTE\n\u001b[0;32m      2\u001b[0m icote \u001b[38;5;241m=\u001b[39m ICOTE()\n\u001b[0;32m      3\u001b[0m balanced_df3 \u001b[38;5;241m=\u001b[39m icote\u001b[38;5;241m.\u001b[39mbalance(df, \u001b[38;5;124m'\u001b[39m\u001b[38;5;124mLegendary\u001b[39m\u001b[38;5;124m'\u001b[39m)\n",
      "\u001b[1;31mModuleNotFoundError\u001b[0m: No module named 'crucio'"
     ]
    }
   ],
   "source": [
    "from crucio import ICOTE\n",
    "icote = ICOTE()\n",
    "balanced_df3 = icote.balance(df, 'Legendary')\n",
    "balanced_df3\n",
    "balanced_df3['Legendary'].value_counts().plot.pie()\n"
   ]
  },
  {
   "cell_type": "markdown",
   "id": "69bf9508",
   "metadata": {},
   "source": [
    "## TKRKNN"
   ]
  },
  {
   "cell_type": "code",
   "execution_count": 4,
   "id": "1c3e44f1",
   "metadata": {},
   "outputs": [
    {
     "ename": "ModuleNotFoundError",
     "evalue": "No module named 'crucio'",
     "output_type": "error",
     "traceback": [
      "\u001b[1;31m---------------------------------------------------------------------------\u001b[0m",
      "\u001b[1;31mModuleNotFoundError\u001b[0m                       Traceback (most recent call last)",
      "Cell \u001b[1;32mIn[4], line 1\u001b[0m\n\u001b[1;32m----> 1\u001b[0m \u001b[38;5;28;01mfrom\u001b[39;00m \u001b[38;5;21;01mcrucio\u001b[39;00m \u001b[38;5;28;01mimport\u001b[39;00m TKRKNN\n\u001b[0;32m      2\u001b[0m tkrknn \u001b[38;5;241m=\u001b[39m TKRKNN()\n\u001b[0;32m      3\u001b[0m balanced_df4 \u001b[38;5;241m=\u001b[39m tkrknn\u001b[38;5;241m.\u001b[39mbalance(df\u001b[38;5;241m=\u001b[39mdf,target\u001b[38;5;241m=\u001b[39m\u001b[38;5;124m'\u001b[39m\u001b[38;5;124mLegendary\u001b[39m\u001b[38;5;124m'\u001b[39m)\n",
      "\u001b[1;31mModuleNotFoundError\u001b[0m: No module named 'crucio'"
     ]
    }
   ],
   "source": [
    "from crucio import TKRKNN\n",
    "tkrknn = TKRKNN()\n",
    "balanced_df4 = tkrknn.balance(df=df,target='Legendary')\n",
    "balanced_df4\n",
    "balanced_df4['Legendary'].value_counts().plot.pie()\n"
   ]
  },
  {
   "cell_type": "markdown",
   "id": "5c255ba2",
   "metadata": {},
   "source": [
    "## Use Logistic Regression without oversampling"
   ]
  },
  {
   "cell_type": "code",
   "execution_count": 80,
   "id": "d350684a",
   "metadata": {},
   "outputs": [
    {
     "name": "stdout",
     "output_type": "stream",
     "text": [
      "0.09502262443438925\n"
     ]
    }
   ],
   "source": [
    "from sklearn.model_selection import train_test_split\n",
    "from sklearn.metrics import r2_score\n",
    "from sklearn.linear_model import LogisticRegression\n",
    "import pandas as pd\n",
    "import numpy as np\n",
    "x = df.drop(['Legendary'],axis=1)\n",
    "y = df['Legendary']\n",
    "X_train, X_test, y_train, y_test = train_test_split(x,y,random_state=42)\n",
    "delta = LogisticRegression().fit(X_train,y_train)\n",
    "output = delta.predict(X_test)\n",
    "df5 = pd.DataFrame(output)\n",
    "print(r2_score(y_test,output))\n"
   ]
  },
  {
   "cell_type": "markdown",
   "id": "dd7d9e4c",
   "metadata": {},
   "source": [
    "## Use Logistic Regression using oversampling (SMOTE)"
   ]
  },
  {
   "cell_type": "code",
   "execution_count": 79,
   "id": "fafddcc5",
   "metadata": {},
   "outputs": [
    {
     "name": "stdout",
     "output_type": "stream",
     "text": [
      "0.6521739130434783\n"
     ]
    }
   ],
   "source": [
    "from sklearn.model_selection import train_test_split\n",
    "from sklearn.metrics import r2_score\n",
    "from sklearn.linear_model import LogisticRegression\n",
    "import pandas as pd\n",
    "import numpy as np\n",
    "x = balanced_df1.drop(['Legendary'],axis=1)\n",
    "y = balanced_df1['Legendary']\n",
    "X_train, X_test, y_train, y_test = train_test_split(x,y,random_state=42)\n",
    "delta = LogisticRegression().fit(X_train,y_train)\n",
    "output = delta.predict(X_test)\n",
    "df5 = pd.DataFrame(output)\n",
    "print(r2_score(y_test,output))\n"
   ]
  },
  {
   "cell_type": "markdown",
   "id": "868bccf8",
   "metadata": {},
   "source": [
    "## Use Logistic Regression using oversampling (SMOTEENN)"
   ]
  },
  {
   "cell_type": "code",
   "execution_count": 77,
   "id": "f2fbf93f",
   "metadata": {},
   "outputs": [
    {
     "name": "stdout",
     "output_type": "stream",
     "text": [
      "0.736064533671712\n"
     ]
    }
   ],
   "source": [
    "from sklearn.model_selection import train_test_split\n",
    "from sklearn.metrics import r2_score\n",
    "from sklearn.linear_model import LogisticRegression\n",
    "import pandas as pd\n",
    "import numpy as np\n",
    "x = balanced_df2.drop(['Legendary'],axis=1)\n",
    "y = balanced_df2['Legendary']\n",
    "X_train, X_test, y_train, y_test = train_test_split(x,y,random_state=42)\n",
    "delta = LogisticRegression().fit(X_train,y_train)\n",
    "output = delta.predict(X_test)\n",
    "df5 = pd.DataFrame(output)\n",
    "print(r2_score(y_test,output))\n"
   ]
  },
  {
   "cell_type": "markdown",
   "id": "9eaa01aa",
   "metadata": {},
   "source": [
    "## Use Logistic Regression using oversampling (ICOTE)"
   ]
  },
  {
   "cell_type": "code",
   "execution_count": 76,
   "id": "a0f0d69f",
   "metadata": {},
   "outputs": [
    {
     "name": "stdout",
     "output_type": "stream",
     "text": [
      "0.9124617168683655\n"
     ]
    }
   ],
   "source": [
    "from sklearn.model_selection import train_test_split\n",
    "from sklearn.metrics import r2_score\n",
    "from sklearn.linear_model import LogisticRegression\n",
    "import pandas as pd\n",
    "import numpy as np\n",
    "x = balanced_df3.drop(['Legendary'],axis=1)\n",
    "y = balanced_df3['Legendary']\n",
    "X_train, X_test, y_train, y_test = train_test_split(x,y,random_state=42)\n",
    "delta = LogisticRegression().fit(X_train,y_train)\n",
    "output = delta.predict(X_test)\n",
    "df5 = pd.DataFrame(output)\n",
    "print(r2_score(y_test,output))\n"
   ]
  },
  {
   "cell_type": "markdown",
   "id": "2c1488fc",
   "metadata": {},
   "source": [
    "## Use Logistic Regression using oversampling (TKRKNN)"
   ]
  },
  {
   "cell_type": "code",
   "execution_count": 75,
   "id": "9538a0c3",
   "metadata": {},
   "outputs": [
    {
     "name": "stdout",
     "output_type": "stream",
     "text": [
      "0.8905771460854569\n"
     ]
    }
   ],
   "source": [
    "from sklearn.model_selection import train_test_split\n",
    "from sklearn.metrics import r2_score\n",
    "from sklearn.linear_model import LogisticRegression\n",
    "import pandas as pd\n",
    "import numpy as np\n",
    "x = balanced_df4.drop(['Legendary'],axis=1)\n",
    "y = balanced_df4['Legendary']\n",
    "X_train, X_test, y_train, y_test = train_test_split(x,y,random_state=42)\n",
    "delta = LogisticRegression().fit(X_train,y_train)\n",
    "output = delta.predict(X_test)\n",
    "df5 = pd.DataFrame(output)\n",
    "print(r2_score(y_test,output))\n"
   ]
  },
  {
   "cell_type": "markdown",
   "id": "d10ace3d",
   "metadata": {},
   "source": [
    "## As a conclusion we can say that ICOTE and TKRKNN have the best efficiency solving class balancing problems"
   ]
  },
  {
   "cell_type": "code",
   "execution_count": null,
   "id": "aad24bc7",
   "metadata": {},
   "outputs": [],
   "source": []
  }
 ],
 "metadata": {
  "kernelspec": {
   "display_name": "Python 3 (ipykernel)",
   "language": "python",
   "name": "python3"
  },
  "language_info": {
   "codemirror_mode": {
    "name": "ipython",
    "version": 3
   },
   "file_extension": ".py",
   "mimetype": "text/x-python",
   "name": "python",
   "nbconvert_exporter": "python",
   "pygments_lexer": "ipython3",
   "version": "3.11.3"
  }
 },
 "nbformat": 4,
 "nbformat_minor": 5
}
