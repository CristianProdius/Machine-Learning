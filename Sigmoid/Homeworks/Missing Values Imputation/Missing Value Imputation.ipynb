{
 "cells": [
  {
   "cell_type": "code",
   "execution_count": 11,
   "id": "ed9ed6ef",
   "metadata": {},
   "outputs": [
    {
     "name": "stdout",
     "output_type": "stream",
     "text": [
      "Collecting reparo\n",
      "  Downloading reparo-0.0.6-py3-none-any.whl (16 kB)\n",
      "Requirement already satisfied: numpy in c:\\users\\prodi\\appdata\\local\\programs\\python\\python311\\lib\\site-packages (from reparo) (1.24.3)\n",
      "Requirement already satisfied: pandas in c:\\users\\prodi\\appdata\\local\\programs\\python\\python311\\lib\\site-packages (from reparo) (2.0.1)\n",
      "Requirement already satisfied: scikit-learn in c:\\users\\prodi\\appdata\\local\\programs\\python\\python311\\lib\\site-packages (from reparo) (1.2.2)\n",
      "Requirement already satisfied: statsmodels in c:\\users\\prodi\\appdata\\local\\programs\\python\\python311\\lib\\site-packages (from reparo) (0.14.0)\n",
      "Requirement already satisfied: python-dateutil>=2.8.2 in c:\\users\\prodi\\appdata\\local\\programs\\python\\python311\\lib\\site-packages (from pandas->reparo) (2.8.2)\n",
      "Requirement already satisfied: pytz>=2020.1 in c:\\users\\prodi\\appdata\\local\\programs\\python\\python311\\lib\\site-packages (from pandas->reparo) (2023.3)\n",
      "Requirement already satisfied: tzdata>=2022.1 in c:\\users\\prodi\\appdata\\local\\programs\\python\\python311\\lib\\site-packages (from pandas->reparo) (2023.3)\n",
      "Requirement already satisfied: scipy>=1.3.2 in c:\\users\\prodi\\appdata\\local\\programs\\python\\python311\\lib\\site-packages (from scikit-learn->reparo) (1.10.1)\n",
      "Requirement already satisfied: joblib>=1.1.1 in c:\\users\\prodi\\appdata\\local\\programs\\python\\python311\\lib\\site-packages (from scikit-learn->reparo) (1.2.0)\n",
      "Requirement already satisfied: threadpoolctl>=2.0.0 in c:\\users\\prodi\\appdata\\local\\programs\\python\\python311\\lib\\site-packages (from scikit-learn->reparo) (3.1.0)\n",
      "Requirement already satisfied: patsy>=0.5.2 in c:\\users\\prodi\\appdata\\local\\programs\\python\\python311\\lib\\site-packages (from statsmodels->reparo) (0.5.3)\n",
      "Requirement already satisfied: packaging>=21.3 in c:\\users\\prodi\\appdata\\local\\programs\\python\\python311\\lib\\site-packages (from statsmodels->reparo) (23.1)\n",
      "Requirement already satisfied: six in c:\\users\\prodi\\appdata\\local\\programs\\python\\python311\\lib\\site-packages (from patsy>=0.5.2->statsmodels->reparo) (1.16.0)\n",
      "Installing collected packages: reparo\n",
      "Successfully installed reparo-0.0.6\n",
      "Note: you may need to restart the kernel to use updated packages.\n"
     ]
    },
    {
     "name": "stderr",
     "output_type": "stream",
     "text": [
      "\n",
      "[notice] A new release of pip is available: 23.3 -> 23.3.1\n",
      "[notice] To update, run: C:\\Users\\prodi\\AppData\\Local\\Programs\\Python\\Python311\\python.exe -m pip install --upgrade pip\n"
     ]
    }
   ],
   "source": [
    "pip install reparo"
   ]
  },
  {
   "cell_type": "code",
   "execution_count": 22,
   "id": "71c1c364",
   "metadata": {},
   "outputs": [],
   "source": [
    "import pandas as pd\n",
    "import matplotlib.pyplot as plt\n",
    "from sklearn.impute import SimpleImputer\n",
    "from sklearn.preprocessing import StandardScaler\n",
    "from sklearn.linear_model import LogisticRegression\n",
    "from sklearn.naive_bayes import GaussianNB\n",
    "from sklearn.tree import DecisionTreeClassifier\n",
    "from sklearn.ensemble import RandomForestClassifier\n",
    "from sklearn.metrics import accuracy_score\n",
    "from sklearn.model_selection import train_test_split\n",
    "from sklearn.linear_model import LinearRegression\n",
    "import reparo "
   ]
  },
  {
   "cell_type": "markdown",
   "id": "f0a6be99",
   "metadata": {},
   "source": [
    " ### Imported the dataset\n"
   ]
  },
  {
   "cell_type": "code",
   "execution_count": 24,
   "id": "44939b21",
   "metadata": {},
   "outputs": [
    {
     "data": {
      "text/html": [
       "<div>\n",
       "<style scoped>\n",
       "    .dataframe tbody tr th:only-of-type {\n",
       "        vertical-align: middle;\n",
       "    }\n",
       "\n",
       "    .dataframe tbody tr th {\n",
       "        vertical-align: top;\n",
       "    }\n",
       "\n",
       "    .dataframe thead th {\n",
       "        text-align: right;\n",
       "    }\n",
       "</style>\n",
       "<table border=\"1\" class=\"dataframe\">\n",
       "  <thead>\n",
       "    <tr style=\"text-align: right;\">\n",
       "      <th></th>\n",
       "      <th>CRIM</th>\n",
       "      <th>ZN</th>\n",
       "      <th>INDUS</th>\n",
       "      <th>CHAS</th>\n",
       "      <th>NOX</th>\n",
       "      <th>RM</th>\n",
       "      <th>AGE</th>\n",
       "      <th>DIS</th>\n",
       "      <th>RAD</th>\n",
       "      <th>TAX</th>\n",
       "      <th>PTRATIO</th>\n",
       "      <th>B</th>\n",
       "      <th>LSTAT</th>\n",
       "      <th>MEDV</th>\n",
       "    </tr>\n",
       "  </thead>\n",
       "  <tbody>\n",
       "    <tr>\n",
       "      <th>0</th>\n",
       "      <td>0.00632</td>\n",
       "      <td>18.0</td>\n",
       "      <td>2.31</td>\n",
       "      <td>0.0</td>\n",
       "      <td>0.538</td>\n",
       "      <td>6.575</td>\n",
       "      <td>65.2</td>\n",
       "      <td>4.0900</td>\n",
       "      <td>1</td>\n",
       "      <td>296</td>\n",
       "      <td>15.3</td>\n",
       "      <td>396.90</td>\n",
       "      <td>4.98</td>\n",
       "      <td>24.0</td>\n",
       "    </tr>\n",
       "    <tr>\n",
       "      <th>1</th>\n",
       "      <td>0.02731</td>\n",
       "      <td>0.0</td>\n",
       "      <td>7.07</td>\n",
       "      <td>0.0</td>\n",
       "      <td>0.469</td>\n",
       "      <td>6.421</td>\n",
       "      <td>78.9</td>\n",
       "      <td>4.9671</td>\n",
       "      <td>2</td>\n",
       "      <td>242</td>\n",
       "      <td>17.8</td>\n",
       "      <td>396.90</td>\n",
       "      <td>9.14</td>\n",
       "      <td>21.6</td>\n",
       "    </tr>\n",
       "    <tr>\n",
       "      <th>2</th>\n",
       "      <td>0.02729</td>\n",
       "      <td>0.0</td>\n",
       "      <td>7.07</td>\n",
       "      <td>0.0</td>\n",
       "      <td>0.469</td>\n",
       "      <td>7.185</td>\n",
       "      <td>61.1</td>\n",
       "      <td>4.9671</td>\n",
       "      <td>2</td>\n",
       "      <td>242</td>\n",
       "      <td>17.8</td>\n",
       "      <td>392.83</td>\n",
       "      <td>4.03</td>\n",
       "      <td>34.7</td>\n",
       "    </tr>\n",
       "    <tr>\n",
       "      <th>3</th>\n",
       "      <td>0.03237</td>\n",
       "      <td>0.0</td>\n",
       "      <td>2.18</td>\n",
       "      <td>0.0</td>\n",
       "      <td>0.458</td>\n",
       "      <td>6.998</td>\n",
       "      <td>45.8</td>\n",
       "      <td>6.0622</td>\n",
       "      <td>3</td>\n",
       "      <td>222</td>\n",
       "      <td>18.7</td>\n",
       "      <td>394.63</td>\n",
       "      <td>2.94</td>\n",
       "      <td>33.4</td>\n",
       "    </tr>\n",
       "    <tr>\n",
       "      <th>4</th>\n",
       "      <td>0.06905</td>\n",
       "      <td>0.0</td>\n",
       "      <td>2.18</td>\n",
       "      <td>0.0</td>\n",
       "      <td>0.458</td>\n",
       "      <td>7.147</td>\n",
       "      <td>54.2</td>\n",
       "      <td>6.0622</td>\n",
       "      <td>3</td>\n",
       "      <td>222</td>\n",
       "      <td>18.7</td>\n",
       "      <td>396.90</td>\n",
       "      <td>NaN</td>\n",
       "      <td>36.2</td>\n",
       "    </tr>\n",
       "    <tr>\n",
       "      <th>...</th>\n",
       "      <td>...</td>\n",
       "      <td>...</td>\n",
       "      <td>...</td>\n",
       "      <td>...</td>\n",
       "      <td>...</td>\n",
       "      <td>...</td>\n",
       "      <td>...</td>\n",
       "      <td>...</td>\n",
       "      <td>...</td>\n",
       "      <td>...</td>\n",
       "      <td>...</td>\n",
       "      <td>...</td>\n",
       "      <td>...</td>\n",
       "      <td>...</td>\n",
       "    </tr>\n",
       "    <tr>\n",
       "      <th>501</th>\n",
       "      <td>0.06263</td>\n",
       "      <td>0.0</td>\n",
       "      <td>11.93</td>\n",
       "      <td>0.0</td>\n",
       "      <td>0.573</td>\n",
       "      <td>6.593</td>\n",
       "      <td>69.1</td>\n",
       "      <td>2.4786</td>\n",
       "      <td>1</td>\n",
       "      <td>273</td>\n",
       "      <td>21.0</td>\n",
       "      <td>391.99</td>\n",
       "      <td>NaN</td>\n",
       "      <td>22.4</td>\n",
       "    </tr>\n",
       "    <tr>\n",
       "      <th>502</th>\n",
       "      <td>0.04527</td>\n",
       "      <td>0.0</td>\n",
       "      <td>11.93</td>\n",
       "      <td>0.0</td>\n",
       "      <td>0.573</td>\n",
       "      <td>6.120</td>\n",
       "      <td>76.7</td>\n",
       "      <td>2.2875</td>\n",
       "      <td>1</td>\n",
       "      <td>273</td>\n",
       "      <td>21.0</td>\n",
       "      <td>396.90</td>\n",
       "      <td>9.08</td>\n",
       "      <td>20.6</td>\n",
       "    </tr>\n",
       "    <tr>\n",
       "      <th>503</th>\n",
       "      <td>0.06076</td>\n",
       "      <td>0.0</td>\n",
       "      <td>11.93</td>\n",
       "      <td>0.0</td>\n",
       "      <td>0.573</td>\n",
       "      <td>6.976</td>\n",
       "      <td>91.0</td>\n",
       "      <td>2.1675</td>\n",
       "      <td>1</td>\n",
       "      <td>273</td>\n",
       "      <td>21.0</td>\n",
       "      <td>396.90</td>\n",
       "      <td>5.64</td>\n",
       "      <td>23.9</td>\n",
       "    </tr>\n",
       "    <tr>\n",
       "      <th>504</th>\n",
       "      <td>0.10959</td>\n",
       "      <td>0.0</td>\n",
       "      <td>11.93</td>\n",
       "      <td>0.0</td>\n",
       "      <td>0.573</td>\n",
       "      <td>6.794</td>\n",
       "      <td>89.3</td>\n",
       "      <td>2.3889</td>\n",
       "      <td>1</td>\n",
       "      <td>273</td>\n",
       "      <td>21.0</td>\n",
       "      <td>393.45</td>\n",
       "      <td>6.48</td>\n",
       "      <td>22.0</td>\n",
       "    </tr>\n",
       "    <tr>\n",
       "      <th>505</th>\n",
       "      <td>0.04741</td>\n",
       "      <td>0.0</td>\n",
       "      <td>11.93</td>\n",
       "      <td>0.0</td>\n",
       "      <td>0.573</td>\n",
       "      <td>6.030</td>\n",
       "      <td>NaN</td>\n",
       "      <td>2.5050</td>\n",
       "      <td>1</td>\n",
       "      <td>273</td>\n",
       "      <td>21.0</td>\n",
       "      <td>396.90</td>\n",
       "      <td>7.88</td>\n",
       "      <td>11.9</td>\n",
       "    </tr>\n",
       "  </tbody>\n",
       "</table>\n",
       "<p>506 rows × 14 columns</p>\n",
       "</div>"
      ],
      "text/plain": [
       "        CRIM    ZN  INDUS  CHAS    NOX     RM   AGE     DIS  RAD  TAX   \n",
       "0    0.00632  18.0   2.31   0.0  0.538  6.575  65.2  4.0900    1  296  \\\n",
       "1    0.02731   0.0   7.07   0.0  0.469  6.421  78.9  4.9671    2  242   \n",
       "2    0.02729   0.0   7.07   0.0  0.469  7.185  61.1  4.9671    2  242   \n",
       "3    0.03237   0.0   2.18   0.0  0.458  6.998  45.8  6.0622    3  222   \n",
       "4    0.06905   0.0   2.18   0.0  0.458  7.147  54.2  6.0622    3  222   \n",
       "..       ...   ...    ...   ...    ...    ...   ...     ...  ...  ...   \n",
       "501  0.06263   0.0  11.93   0.0  0.573  6.593  69.1  2.4786    1  273   \n",
       "502  0.04527   0.0  11.93   0.0  0.573  6.120  76.7  2.2875    1  273   \n",
       "503  0.06076   0.0  11.93   0.0  0.573  6.976  91.0  2.1675    1  273   \n",
       "504  0.10959   0.0  11.93   0.0  0.573  6.794  89.3  2.3889    1  273   \n",
       "505  0.04741   0.0  11.93   0.0  0.573  6.030   NaN  2.5050    1  273   \n",
       "\n",
       "     PTRATIO       B  LSTAT  MEDV  \n",
       "0       15.3  396.90   4.98  24.0  \n",
       "1       17.8  396.90   9.14  21.6  \n",
       "2       17.8  392.83   4.03  34.7  \n",
       "3       18.7  394.63   2.94  33.4  \n",
       "4       18.7  396.90    NaN  36.2  \n",
       "..       ...     ...    ...   ...  \n",
       "501     21.0  391.99    NaN  22.4  \n",
       "502     21.0  396.90   9.08  20.6  \n",
       "503     21.0  396.90   5.64  23.9  \n",
       "504     21.0  393.45   6.48  22.0  \n",
       "505     21.0  396.90   7.88  11.9  \n",
       "\n",
       "[506 rows x 14 columns]"
      ]
     },
     "execution_count": 24,
     "metadata": {},
     "output_type": "execute_result"
    }
   ],
   "source": [
    "df = pd.read_csv('HousingData.csv')\n",
    "##df['MEDV']=[int(i) for i in df['MEDV']]\n",
    "df"
   ]
  },
  {
   "cell_type": "markdown",
   "id": "108e1ac3",
   "metadata": {},
   "source": [
    "## step 2: Create a (bar) plot that will show the number of missing values in every column.\n"
   ]
  },
  {
   "cell_type": "code",
   "execution_count": 11,
   "id": "7d478c38",
   "metadata": {},
   "outputs": [
    {
     "data": {
      "image/png": "[encoded data removed]",
      "text/plain": [
       "<Figure size 800x1200 with 1 Axes>"
      ]
     },
     "metadata": {},
     "output_type": "display_data"
    }
   ],
   "source": [
    "x,y=[i for i in df],df.isna().sum()\n",
    "plt.bar(x,y)\n",
    "plt.rcParams['figure.figsize'] = [8, 12]\n",
    "plt.show()"
   ]
  },
  {
   "cell_type": "markdown",
   "id": "00b8c844",
   "metadata": {},
   "source": [
    "## step 3: Split the data set into the train and test set."
   ]
  },
  {
   "cell_type": "code",
   "execution_count": 12,
   "id": "6d52c4dd",
   "metadata": {},
   "outputs": [],
   "source": [
    "X=df.drop(['MEDV'],axis=1)\n",
    "y=df['MEDV']\n",
    "X_train, X_test, y_train, y_test = train_test_split(X, y, test_size=0.2, random_state=427)"
   ]
  },
  {
   "cell_type": "markdown",
   "id": "aa40bea6",
   "metadata": {},
   "source": [
    "## step 4-14: Create the instaces"
   ]
  },
  {
   "cell_type": "code",
   "execution_count": 13,
   "id": "d8920693",
   "metadata": {},
   "outputs": [],
   "source": [
    "imputers = {\n",
    "    'imputer_mean': SimpleImputer(strategy='mean'),\n",
    "    'imputer_median': SimpleImputer(strategy='median'),\n",
    "    'imputer_most_frequent': SimpleImputer(strategy='most_frequent'),\n",
    "    'imputer_constant': SimpleImputer(strategy='constant', fill_value=0),\n",
    "    'imputer_cdi': reparo.CDI(),\n",
    "    'imputer_frnni': reparo.FRNNI(),\n",
    "    'imputer_hdi': reparo.HotDeckImputation(),\n",
    "    'imputer_knn': reparo.KNNImputer(),\n",
    "    'imputer_pmm': reparo.PMM(),\n",
    "    'imputer_mice': reparo.MICE()\n",
    "}"
   ]
  },
  {
   "cell_type": "markdown",
   "id": "960d9e7b",
   "metadata": {},
   "source": [
    "## step 15: Train every imputer on the train data set."
   ]
  },
  {
   "cell_type": "code",
   "execution_count": 14,
   "id": "415ebe45",
   "metadata": {},
   "outputs": [],
   "source": [
    "imputed_datasets = {}\n",
    "for imputer_name, imputer in imputers.items():\n",
    "    imputed_datasets[imputer_name] = imputer.fit_transform(X_train.values)"
   ]
  },
  {
   "cell_type": "markdown",
   "id": "50b592fc",
   "metadata": {},
   "source": [
    "## step 16: Fill in the missing values on the train and test subset."
   ]
  },
  {
   "cell_type": "code",
   "execution_count": 15,
   "id": "aecd20d1",
   "metadata": {},
   "outputs": [],
   "source": [
    "imputed_test_datasets = {}\n",
    "for imputer_name, imputer in imputers.items():\n",
    "    imputed_test_datasets[imputer_name] = imputer.fit_transform(X_test.values)"
   ]
  },
  {
   "cell_type": "markdown",
   "id": "3fc8b3bb",
   "metadata": {},
   "source": [
    "## step 17-18: Train the following models on every set that you got after imputing the missing values:\n",
    "    - Logistic Regression.\n",
    "    - Gaussian Naive Bayes.\n",
    "    - TreeDecisionClassifier.\n",
    "    - RandomForest.\n",
    "    \n",
    " ## the tabel with accuracy score for each model"
   ]
  },
  {
   "cell_type": "code",
   "execution_count": 20,
   "id": "7c8d4d16",
   "metadata": {},
   "outputs": [
    {
     "data": {
      "text/plain": [
       "194    29.1\n",
       "485    21.2\n",
       "95     28.4\n",
       "217    28.7\n",
       "269    20.7\n",
       "       ... \n",
       "98     43.8\n",
       "389    11.5\n",
       "64     33.0\n",
       "331    17.1\n",
       "290    28.5\n",
       "Name: MEDV, Length: 404, dtype: float64"
      ]
     },
     "execution_count": 20,
     "metadata": {},
     "output_type": "execute_result"
    }
   ],
   "source": [
    "y_train"
   ]
  },
  {
   "cell_type": "code",
   "execution_count": 21,
   "id": "8247d030",
   "metadata": {},
   "outputs": [
    {
     "ename": "NameError",
     "evalue": "name 'LinearRegression' is not defined",
     "output_type": "error",
     "traceback": [
      "\u001b[1;31m---------------------------------------------------------------------------\u001b[0m",
      "\u001b[1;31mNameError\u001b[0m                                 Traceback (most recent call last)",
      "Cell \u001b[1;32mIn[21], line 2\u001b[0m\n\u001b[0;32m      1\u001b[0m models \u001b[38;5;241m=\u001b[39m {\n\u001b[1;32m----> 2\u001b[0m     \u001b[38;5;124m'\u001b[39m\u001b[38;5;124mLinear Regression\u001b[39m\u001b[38;5;124m'\u001b[39m: \u001b[43mLinearRegression\u001b[49m(max_iter\u001b[38;5;241m=\u001b[39m\u001b[38;5;241m1000\u001b[39m),\n\u001b[0;32m      3\u001b[0m     \u001b[38;5;124m'\u001b[39m\u001b[38;5;124mGaussian Naive Bayes\u001b[39m\u001b[38;5;124m'\u001b[39m: GaussianNB(),\n\u001b[0;32m      4\u001b[0m     \u001b[38;5;124m'\u001b[39m\u001b[38;5;124mTree Decision Classifier\u001b[39m\u001b[38;5;124m'\u001b[39m: DecisionTreeClassifier(),\n\u001b[0;32m      5\u001b[0m     \u001b[38;5;124m'\u001b[39m\u001b[38;5;124mRandomForest\u001b[39m\u001b[38;5;124m'\u001b[39m: RandomForestClassifier()\n\u001b[0;32m      6\u001b[0m }\n\u001b[0;32m      7\u001b[0m scaler \u001b[38;5;241m=\u001b[39m StandardScaler()\n\u001b[0;32m     10\u001b[0m accuracy_table \u001b[38;5;241m=\u001b[39m pd\u001b[38;5;241m.\u001b[39mDataFrame(columns\u001b[38;5;241m=\u001b[39m[\u001b[38;5;124m'\u001b[39m\u001b[38;5;124mImputation algorithm\u001b[39m\u001b[38;5;124m'\u001b[39m, \u001b[38;5;124m'\u001b[39m\u001b[38;5;124mPrediction algorithm\u001b[39m\u001b[38;5;124m'\u001b[39m, \u001b[38;5;124m'\u001b[39m\u001b[38;5;124mAccuracy\u001b[39m\u001b[38;5;124m'\u001b[39m])\n",
      "\u001b[1;31mNameError\u001b[0m: name 'LinearRegression' is not defined"
     ]
    }
   ],
   "source": [
    "models = {\n",
    "    'Linear Regression': LinearRegression(max_iter=1000),\n",
    "    'Gaussian Naive Bayes': GaussianNB(),\n",
    "    'Tree Decision Classifier': DecisionTreeClassifier(),\n",
    "    'RandomForest': RandomForestClassifier()\n",
    "}\n",
    "scaler = StandardScaler()\n",
    "\n",
    "\n",
    "accuracy_table = pd.DataFrame(columns=['Imputation algorithm', 'Prediction algorithm', 'Accuracy'])\n",
    "\n",
    "for imputer_name, imputed_data in imputed_datasets.items():\n",
    "    for model_name, model in models.items():\n",
    "        X_scaled = scaler.fit_transform(imputed_data)\n",
    "        print(model_name)\n",
    "        model.fit(X_scaled, y_train)\n",
    "        imputed_test_data = imputed_test_datasets[imputer_name]\n",
    "        y_pred = model.predict(imputed_test_data)\n",
    "        accuracy = accuracy_score(y_test, y_pred)\n",
    "        accuracy_table = pd.concat([\n",
    "            accuracy_table,\n",
    "            pd.DataFrame({\n",
    "                'Imputation algorithm': [imputer_name],\n",
    "                'Prediction algorithm': [model_name],\n",
    "                'Accuracy': [accuracy]\n",
    "            })\n",
    "        ], ignore_index=True)\n",
    "\n",
    "print(\"Accuracy Table:\")\n",
    "accuracy_table"
   ]
  },
  {
   "cell_type": "code",
   "execution_count": null,
   "id": "f5042b17",
   "metadata": {},
   "outputs": [],
   "source": []
  }
 ],
 "metadata": {
  "kernelspec": {
   "display_name": "Python 3 (ipykernel)",
   "language": "python",
   "name": "python3"
  },
  "language_info": {
   "codemirror_mode": {
    "name": "ipython",
    "version": 3
   },
   "file_extension": ".py",
   "mimetype": "text/x-python",
   "name": "python",
   "nbconvert_exporter": "python",
   "pygments_lexer": "ipython3",
   "version": "3.11.3"
  }
 },
 "nbformat": 4,
 "nbformat_minor": 5
}
