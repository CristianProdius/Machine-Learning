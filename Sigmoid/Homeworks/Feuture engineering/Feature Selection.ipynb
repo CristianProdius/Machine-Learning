{
 "cells": [
  {
   "cell_type": "markdown",
   "id": "8e0b72d9",
   "metadata": {},
   "source": [
    "It can be noticed that the number of columns was reduced from 12 to 8, it means that 4 columns have a p-value less \n",
    "than 0,05"
   ]
  },
  {
   "cell_type": "code",
   "execution_count": 1,
   "id": "7f2c34ef",
   "metadata": {},
   "outputs": [
    {
     "ename": "ModuleNotFoundError",
     "evalue": "No module named 'kydavra'",
     "output_type": "error",
     "traceback": [
      "\u001b[1;31m---------------------------------------------------------------------------\u001b[0m",
      "\u001b[1;31mModuleNotFoundError\u001b[0m                       Traceback (most recent call last)",
      "Cell \u001b[1;32mIn[1], line 1\u001b[0m\n\u001b[1;32m----> 1\u001b[0m \u001b[38;5;28;01mfrom\u001b[39;00m \u001b[38;5;21;01mkydavra\u001b[39;00m \u001b[38;5;28;01mimport\u001b[39;00m PValueSelector\n\u001b[0;32m      2\u001b[0m \u001b[38;5;28;01mimport\u001b[39;00m \u001b[38;5;21;01mpandas\u001b[39;00m \u001b[38;5;28;01mas\u001b[39;00m \u001b[38;5;21;01mpd\u001b[39;00m\n\u001b[0;32m      3\u001b[0m \u001b[38;5;28;01mimport\u001b[39;00m \u001b[38;5;21;01mnumpy\u001b[39;00m \u001b[38;5;28;01mas\u001b[39;00m \u001b[38;5;21;01mnp\u001b[39;00m\n",
      "\u001b[1;31mModuleNotFoundError\u001b[0m: No module named 'kydavra'"
     ]
    }
   ],
   "source": [
    "from kydavra import PValueSelector\n",
    "import pandas as pd\n",
    "import numpy as np\n",
    "df = pd.read_csv('heart.csv')\n",
    "print(len(df.columns))\n",
    "pvalue_selector = PValueSelector()\n",
    "selected_columns = pvalue_selector.select(df, 'target')\n",
    "selected_columns\n",
    "print(len(selected_columns))\n",
    "selected_columns\n",
    "df"
   ]
  },
  {
   "cell_type": "markdown",
   "id": "54e31570",
   "metadata": {},
   "source": [
    "Another way to visualize the p-value using statsmodels.api"
   ]
  },
  {
   "cell_type": "code",
   "execution_count": 2,
   "id": "37ba7780",
   "metadata": {},
   "outputs": [
    {
     "ename": "NameError",
     "evalue": "name 'df' is not defined",
     "output_type": "error",
     "traceback": [
      "\u001b[1;31m---------------------------------------------------------------------------\u001b[0m",
      "\u001b[1;31mNameError\u001b[0m                                 Traceback (most recent call last)",
      "Cell \u001b[1;32mIn[2], line 3\u001b[0m\n\u001b[0;32m      1\u001b[0m \u001b[38;5;28;01mimport\u001b[39;00m \u001b[38;5;21;01mstatsmodels\u001b[39;00m\u001b[38;5;21;01m.\u001b[39;00m\u001b[38;5;21;01mapi\u001b[39;00m \u001b[38;5;28;01mas\u001b[39;00m \u001b[38;5;21;01msm\u001b[39;00m\n\u001b[0;32m      2\u001b[0m \u001b[38;5;28;01mfrom\u001b[39;00m \u001b[38;5;21;01msklearn\u001b[39;00m\u001b[38;5;21;01m.\u001b[39;00m\u001b[38;5;21;01mmodel_selection\u001b[39;00m \u001b[38;5;28;01mimport\u001b[39;00m train_test_split\n\u001b[1;32m----> 3\u001b[0m X \u001b[38;5;241m=\u001b[39m \u001b[43mdf\u001b[49m\u001b[38;5;241m.\u001b[39mdrop(\u001b[38;5;124m'\u001b[39m\u001b[38;5;124mtarget\u001b[39m\u001b[38;5;124m'\u001b[39m, axis \u001b[38;5;241m=\u001b[39m\u001b[38;5;241m1\u001b[39m)\n\u001b[0;32m      4\u001b[0m y \u001b[38;5;241m=\u001b[39m df[\u001b[38;5;124m'\u001b[39m\u001b[38;5;124mtarget\u001b[39m\u001b[38;5;124m'\u001b[39m]\n\u001b[0;32m      5\u001b[0m X_train, X_test, y_train, y_test \u001b[38;5;241m=\u001b[39m train_test_split(X, y, test_size\u001b[38;5;241m=\u001b[39m\u001b[38;5;241m0.33\u001b[39m, random_state\u001b[38;5;241m=\u001b[39m\u001b[38;5;241m42\u001b[39m)\n",
      "\u001b[1;31mNameError\u001b[0m: name 'df' is not defined"
     ]
    }
   ],
   "source": [
    "import statsmodels.api as sm\n",
    "from sklearn.model_selection import train_test_split\n",
    "X = df.drop('target', axis =1)\n",
    "y = df['target']\n",
    "X_train, X_test, y_train, y_test = train_test_split(X, y, test_size=0.33, random_state=42)\n",
    "X_train_sm = sm.add_constant(X_train)\n",
    "X_train_sm\n",
    "view = sm.OLS(y_train,X_train_sm).fit()\n",
    "print(view.summary())"
   ]
  },
  {
   "cell_type": "markdown",
   "id": "0d85acda",
   "metadata": {},
   "source": [
    "LassoSelector"
   ]
  },
  {
   "cell_type": "code",
   "execution_count": null,
   "id": "48984708",
   "metadata": {},
   "outputs": [],
   "source": [
    "from kydavra import LassoSelector\n",
    "import warnings\n",
    "warnings.filterwarnings('ignore')\n",
    "lasso = LassoSelector()\n",
    "selected_columns = lasso.select(df, 'target')\n",
    "print(selected_columns)"
   ]
  },
  {
   "cell_type": "markdown",
   "id": "31a99181",
   "metadata": {},
   "source": [
    "Pear-sonCorrelationSelector"
   ]
  },
  {
   "cell_type": "code",
   "execution_count": null,
   "id": "405de86a",
   "metadata": {},
   "outputs": [],
   "source": [
    "from kydavra import PearsonCorrelationSelector\n",
    "from sklearn.preprocessing import StandardScaler\n",
    "scaler = StandardScaler()\n",
    "scaler.fit(df)\n",
    "new_df = scaler.transform(df)\n",
    "new_df = pd.DataFrame(new_df,columns = df.columns)\n",
    "pearson = PearsonCorrelationSelector()\n",
    "selected_column = pearson.select(new_df,'target')\n",
    "selected_column"
   ]
  },
  {
   "cell_type": "markdown",
   "id": "523664a1",
   "metadata": {},
   "source": [
    "PointBiserialCorrSelector - comparing dichotomous data to continuous data"
   ]
  },
  {
   "cell_type": "code",
   "execution_count": 3,
   "id": "e9c70630",
   "metadata": {},
   "outputs": [
    {
     "ename": "ModuleNotFoundError",
     "evalue": "No module named 'kydavra'",
     "output_type": "error",
     "traceback": [
      "\u001b[1;31m---------------------------------------------------------------------------\u001b[0m",
      "\u001b[1;31mModuleNotFoundError\u001b[0m                       Traceback (most recent call last)",
      "Cell \u001b[1;32mIn[3], line 1\u001b[0m\n\u001b[1;32m----> 1\u001b[0m \u001b[38;5;28;01mfrom\u001b[39;00m \u001b[38;5;21;01mkydavra\u001b[39;00m \u001b[38;5;28;01mimport\u001b[39;00m PointBiserialCorrSelector\n\u001b[0;32m      2\u001b[0m point_biserial \u001b[38;5;241m=\u001b[39m PointBiserialCorrSelector()\n\u001b[0;32m      3\u001b[0m selected_column \u001b[38;5;241m=\u001b[39m point_biserial\u001b[38;5;241m.\u001b[39mselect(df, \u001b[38;5;124m'\u001b[39m\u001b[38;5;124mtarget\u001b[39m\u001b[38;5;124m'\u001b[39m)\n",
      "\u001b[1;31mModuleNotFoundError\u001b[0m: No module named 'kydavra'"
     ]
    }
   ],
   "source": [
    "from kydavra import PointBiserialCorrSelector\n",
    "point_biserial = PointBiserialCorrSelector()\n",
    "selected_column = point_biserial.select(df, 'target')\n",
    "selected_column"
   ]
  }
 ],
 "metadata": {
  "kernelspec": {
   "display_name": "Python 3 (ipykernel)",
   "language": "python",
   "name": "python3"
  },
  "language_info": {
   "codemirror_mode": {
    "name": "ipython",
    "version": 3
   },
   "file_extension": ".py",
   "mimetype": "text/x-python",
   "name": "python",
   "nbconvert_exporter": "python",
   "pygments_lexer": "ipython3",
   "version": "3.11.3"
  }
 },
 "nbformat": 4,
 "nbformat_minor": 5
}
