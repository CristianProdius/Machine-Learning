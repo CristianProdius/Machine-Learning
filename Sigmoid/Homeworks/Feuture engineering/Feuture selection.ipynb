{
 "cells": [
  {
   "cell_type": "markdown",
   "id": "8cddbd4c",
   "metadata": {},
   "source": [
    "Dimensionality reduction part in 2 feture selction and feture extraction(PCA)\n",
    "#why is important\n",
    "-machine learning models become worst as more feutures ocures\n",
    "-computational expensive\n",
    "\n"
   ]
  },
  {
   "cell_type": "markdown",
   "id": "46f7303a",
   "metadata": {},
   "source": [
    "# Filter MEthods\n"
   ]
  },
  {
   "cell_type": "markdown",
   "id": "ba033fa2",
   "metadata": {},
   "source": [
    "variance threshoulds -> computes fariance of ech feuture, feuture with hight variande is beter (variance meaning how much is spread)"
   ]
  },
  {
   "cell_type": "code",
   "execution_count": null,
   "id": "8893b8b2",
   "metadata": {},
   "outputs": [],
   "source": [
    "Feature Importance:\n",
    "Definition:\n",
    "\n",
    "Feature importance is a measure of the impact of different features on the predictions made by a machine learning model.\n",
    "Importance Measurement:\n",
    "\n",
    "Various methods exist to measure feature importance, each answering slightly different versions of the question.\n",
    "Permutation importance is highlighted for its speed, widespread usage, and consistency with desired properties of a feature importance measure.\n",
    "Permutation Importance:\n",
    "How It Works:\n",
    "\n",
    "Permutation importance is calculated after a model has been trained.\n",
    "The model remains unchanged during the process.\n",
    "It involves randomly shuffling the values in a single column of the dataset and observing the impact on prediction accuracy.\n",
    "The more a column shuffle affects accuracy, the more important the feature in that column.\n",
    "Procedure:\n",
    "\n",
    "Get a trained model.\n",
    "Shuffle values in a single column and make predictions.\n",
    "Measure the deterioration in the loss function due to the shuffle.\n",
    "Repeat for each column in the dataset."
   ]
  }
 ],
 "metadata": {
  "kernelspec": {
   "display_name": "Python 3 (ipykernel)",
   "language": "python",
   "name": "python3"
  },
  "language_info": {
   "codemirror_mode": {
    "name": "ipython",
    "version": 3
   },
   "file_extension": ".py",
   "mimetype": "text/x-python",
   "name": "python",
   "nbconvert_exporter": "python",
   "pygments_lexer": "ipython3",
   "version": "3.11.3"
  }
 },
 "nbformat": 4,
 "nbformat_minor": 5
}
